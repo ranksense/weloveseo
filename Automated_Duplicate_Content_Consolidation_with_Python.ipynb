{
  "nbformat": 4,
  "nbformat_minor": 0,
  "metadata": {
    "colab": {
      "name": "Automated Duplicate Content Consolidation with Python.ipynb",
      "provenance": [],
      "toc_visible": true,
      "include_colab_link": true
    },
    "kernelspec": {
      "name": "python3",
      "display_name": "Python 3"
    }
  },
  "cells": [
    {
      "cell_type": "markdown",
      "metadata": {
        "id": "view-in-github",
        "colab_type": "text"
      },
      "source": [
        "<a href=\"https://colab.research.google.com/github/hamletbatista/weloveseo/blob/main/Automated_Duplicate_Content_Consolidation_with_Python.ipynb\" target=\"_parent\"><img src=\"https://colab.research.google.com/assets/colab-badge.svg\" alt=\"Open In Colab\"/></a>"
      ]
    },
    {
      "cell_type": "code",
      "metadata": {
        "id": "pyEJR0zJ4n1M"
      },
      "source": [
        "access_token = \"INPUT ONCRAWL API TOKEN\""
      ],
      "execution_count": null,
      "outputs": []
    },
    {
      "cell_type": "markdown",
      "metadata": {
        "id": "fM-NAo0245q5"
      },
      "source": [
        "Here are the main steps:\n",
        "\n",
        "1. We will use OnCrawl’s crawler to collect all the product pages and their SEO meta data (including canonicals).\n",
        "3. We will use SEMrush to gather color specific search terms and corresponding product pages.\n",
        "4. We will define a simple clustering algorithm to group (or not group) products depending on whether they have color searches.\n",
        "5. We can use Tableau to visualize the clustering changes and understand the changes better. \n",
        "6. We will upload our experimental changes to the Cloudflare CDN using the RankSense app.\n"
      ]
    },
    {
      "cell_type": "markdown",
      "metadata": {
        "id": "6rp1IUZQ6eGj"
      },
      "source": [
        "#Oncrawl API\n",
        "\n",
        "First, let's manually test the OnCrawl API\n",
        "\n",
        "http://developer.oncrawl.com/#Authentication\n",
        "\n",
        "https://github.com/cogniteev/oncrawl-documentation-platform/blob/master/pages/guides/guide_authentication.md\n"
      ]
    },
    {
      "cell_type": "code",
      "metadata": {
        "id": "dgggqAwU7Ooj"
      },
      "source": [
        "import requests\n"
      ],
      "execution_count": null,
      "outputs": []
    },
    {
      "cell_type": "code",
      "metadata": {
        "id": "qmWJ7h0w7YRE"
      },
      "source": [
        "def list_projects():\n",
        "  response = requests.get(\"https://app.oncrawl.com/api/v2/projects\",\n",
        "    headers={ 'Authorization': 'Bearer {ACCESS_TOKEN}'.format(ACCESS_TOKEN=access_token)})\n",
        "  \n",
        "  return response.json()\n"
      ],
      "execution_count": null,
      "outputs": []
    },
    {
      "cell_type": "code",
      "metadata": {
        "id": "xoZbNwWv7anM",
        "outputId": "1b599906-1b4b-48a6-8fcc-3a999465256c",
        "colab": {
          "base_uri": "https://localhost:8080/",
          "height": 459
        }
      },
      "source": [
        "projects= list_projects()\n",
        "projects"
      ],
      "execution_count": null,
      "outputs": [
        {
          "output_type": "execute_result",
          "data": {
            "text/plain": [
              "{'meta': {'filters': {}, 'limit': 20, 'offset': 0, 'sort': None, 'total': 1},\n",
              " 'projects': [{'crawl_config_ids': ['5d002997451c956b65e28f55'],\n",
              "   'crawl_ids': ['5d090005451c952d4952a59d',\n",
              "    '5d081ba7451c956f8bf6989b',\n",
              "    '5d002a74451c950e9b0e701e'],\n",
              "   'crawl_over_crawl_ids': [],\n",
              "   'domain': 'davidyurman.com',\n",
              "   'features': ['advanced_project', 'custom_fields'],\n",
              "   'id': '5d002997451c950e9b0e6ead',\n",
              "   'is_verified_by': None,\n",
              "   'last_crawl_created_at': 1560870917000,\n",
              "   'last_crawl_id': '5d090005451c952d4952a59d',\n",
              "   'limits': {'max_custom_chart_count': None,\n",
              "    'max_custom_dashboard_count': None,\n",
              "    'max_group_count': None,\n",
              "    'max_segmentation_count': None,\n",
              "    'max_speed': None},\n",
              "   'log_monitoring_data_ready': False,\n",
              "   'log_monitoring_processing_enabled': False,\n",
              "   'log_monitoring_ready': False,\n",
              "   'name': 'davidyurman',\n",
              "   'settings': {},\n",
              "   'shared_read_user_ids': [],\n",
              "   'shared_write_user_ids': [],\n",
              "   'start_url': 'https://www.davidyurman.com',\n",
              "   'user_id': '5ce40992451c954bf387a12c'}]}"
            ]
          },
          "metadata": {
            "tags": []
          },
          "execution_count": 19
        }
      ]
    },
    {
      "cell_type": "code",
      "metadata": {
        "id": "kjjMyRst8mEJ"
      },
      "source": [
        "#http://developer.oncrawl.com/#Launch-a-crawl\n",
        "\n",
        "def start_crawl(project_id, config_id):\n",
        "\n",
        "  url = \"https://app.oncrawl.com/api/v2/projects/{project_id}/launch-crawl?configId={crawl_config_id}\".format(project_id=project_id, \n",
        "    crawl_config_id=config_id)\n",
        "  \n",
        "  print(url)\n",
        "\n",
        "  bearer = 'Bearer {ACCESS_TOKEN}'.format(ACCESS_TOKEN=access_token)\n",
        "\n",
        "  print(bearer)\n",
        "  \n",
        "  response = requests.post(url, headers={ 'Authorization': bearer})\n",
        "\n",
        "  return response\n",
        "\n",
        "\n",
        "\n",
        "\n"
      ],
      "execution_count": null,
      "outputs": []
    },
    {
      "cell_type": "code",
      "metadata": {
        "id": "gtYuZ8UK-2N1",
        "outputId": "99f2a431-d912-496e-8a7e-46a9029d5524",
        "colab": {
          "base_uri": "https://localhost:8080/",
          "height": 442
        }
      },
      "source": [
        "projects[\"projects\"][0]"
      ],
      "execution_count": null,
      "outputs": [
        {
          "output_type": "execute_result",
          "data": {
            "text/plain": [
              "{'crawl_config_ids': ['5d002997451c956b65e28f55'],\n",
              " 'crawl_ids': ['5d090005451c952d4952a59d',\n",
              "  '5d081ba7451c956f8bf6989b',\n",
              "  '5d002a74451c950e9b0e701e'],\n",
              " 'crawl_over_crawl_ids': [],\n",
              " 'domain': 'davidyurman.com',\n",
              " 'features': ['advanced_project', 'custom_fields'],\n",
              " 'id': '5d002997451c950e9b0e6ead',\n",
              " 'is_verified_by': None,\n",
              " 'last_crawl_created_at': 1560870917000,\n",
              " 'last_crawl_id': '5d090005451c952d4952a59d',\n",
              " 'limits': {'max_custom_chart_count': None,\n",
              "  'max_custom_dashboard_count': None,\n",
              "  'max_group_count': None,\n",
              "  'max_segmentation_count': None,\n",
              "  'max_speed': None},\n",
              " 'log_monitoring_data_ready': False,\n",
              " 'log_monitoring_processing_enabled': False,\n",
              " 'log_monitoring_ready': False,\n",
              " 'name': 'davidyurman',\n",
              " 'settings': {},\n",
              " 'shared_read_user_ids': [],\n",
              " 'shared_write_user_ids': [],\n",
              " 'start_url': 'https://www.davidyurman.com',\n",
              " 'user_id': '5ce40992451c954bf387a12c'}"
            ]
          },
          "metadata": {
            "tags": []
          },
          "execution_count": 26
        }
      ]
    },
    {
      "cell_type": "code",
      "metadata": {
        "id": "DmXLwsIj-p2R"
      },
      "source": [
        "project_id = projects[\"projects\"][0][\"id\"]"
      ],
      "execution_count": null,
      "outputs": []
    },
    {
      "cell_type": "code",
      "metadata": {
        "id": "IkrjqpW8_IS-"
      },
      "source": [
        "config_id = projects[\"projects\"][0][\"crawl_config_ids\"][0]"
      ],
      "execution_count": null,
      "outputs": []
    },
    {
      "cell_type": "code",
      "metadata": {
        "id": "uoj_Sety_T4c"
      },
      "source": [
        "crawl = start_crawl(project_id, config_id)\n",
        "crawl"
      ],
      "execution_count": null,
      "outputs": []
    },
    {
      "cell_type": "code",
      "metadata": {
        "id": "JwSoJurW_cFc"
      },
      "source": [
        "crawl.json()"
      ],
      "execution_count": null,
      "outputs": []
    },
    {
      "cell_type": "code",
      "metadata": {
        "id": "XoUHMZxzAQz9"
      },
      "source": [
        "def list_crawls():\n",
        "  response = requests.get(\"https://app.oncrawl.com/api/v2/crawls\",\n",
        "    headers={ 'Authorization': 'Bearer {ACCESS_TOKEN}'.format(ACCESS_TOKEN=access_token)})\n",
        "  \n",
        "  return response.json()\n"
      ],
      "execution_count": null,
      "outputs": []
    },
    {
      "cell_type": "code",
      "metadata": {
        "id": "lNC3WpgABgih",
        "outputId": "b0119d67-7e9e-44f0-98e6-30d0babf6659",
        "colab": {
          "base_uri": "https://localhost:8080/",
          "height": 1000
        }
      },
      "source": [
        "list_crawls()"
      ],
      "execution_count": null,
      "outputs": [
        {
          "output_type": "execute_result",
          "data": {
            "text/plain": [
              "{'crawls': [{'crawl_config': {'adobe_analytics_params': {},\n",
              "    'agent_kind': 'web',\n",
              "    'ajax_crawling': False,\n",
              "    'allow_query_params': True,\n",
              "    'alternate_start_urls': [],\n",
              "    'at_internet_params': {},\n",
              "    'crawl_subdomains': False,\n",
              "    'custom_fields': [{'export': {'arity': 'ONE', 'type': 'STRING'},\n",
              "      'name': 'Product_ID',\n",
              "      'namespace': 'custom',\n",
              "      'parse': [{'operations': [{'kind': 'REGEX',\n",
              "          'rule': '<meta property=\"product:retailer_item_id\" content=\"(.*)\">'}],\n",
              "        'source': 'PAGE_CONTENT'}],\n",
              "      'transform': []},\n",
              "     {'export': {'arity': 'ONE', 'type': 'STRING'},\n",
              "      'name': 'Product_ID_reverse',\n",
              "      'namespace': 'custom',\n",
              "      'parse': [{'operations': [{'kind': 'REGEX',\n",
              "          'rule': '<meta content=\\\\\"(.*)\\\\\" property=\\\\\"product:retailer_item_id\\\\\"/>'}],\n",
              "        'source': 'PAGE_CONTENT'}],\n",
              "      'transform': []}],\n",
              "    'dns': [],\n",
              "    'extra_headers': {},\n",
              "    'filter_query_params': False,\n",
              "    'google_analytics_params': {},\n",
              "    'google_search_console_params': {},\n",
              "    'headless': None,\n",
              "    'http_auth': None,\n",
              "    'id': '5d090005451c952d4952a59c',\n",
              "    'ignore_nofollow': False,\n",
              "    'ignore_noindex': False,\n",
              "    'js_rendering': False,\n",
              "    'majestic_params': {},\n",
              "    'max_depth': 15,\n",
              "    'max_speed': 1.0,\n",
              "    'max_url': 500000,\n",
              "    'name': 'default',\n",
              "    'query_params_list': '',\n",
              "    'resource_checker': False,\n",
              "    'reuse_cookies': False,\n",
              "    'robots_txt': [],\n",
              "    'seed_files_mode': True,\n",
              "    'sitemaps': ['https://www.davidyurman.com/products_us.pdp.sitemap.xml'],\n",
              "    'start_url': 'https://www.davidyurman.com',\n",
              "    'strict_sitemaps': True,\n",
              "    'trigger_coc': False,\n",
              "    'use_cookies': True,\n",
              "    'use_proxy': True,\n",
              "    'user_agent': 'OnCrawl',\n",
              "    'user_input_files': [],\n",
              "    'user_seed_files': ['5d081aae451c950cb9fc974c'],\n",
              "    'watched_resources': [],\n",
              "    'webhooks': [],\n",
              "    'whitelist_params_mode': True},\n",
              "   'created_at': 1560870917000,\n",
              "   'cross_analysis_access_logs': None,\n",
              "   'cross_analysis_adobe_analytics': None,\n",
              "   'cross_analysis_at_internet': None,\n",
              "   'cross_analysis_google_analytics': None,\n",
              "   'cross_analysis_google_search_console': None,\n",
              "   'cross_analysis_majestic_back_links': None,\n",
              "   'end_reason': 'ok',\n",
              "   'ended_at': 1560875542000,\n",
              "   'features': ['page_cache', 'redirect', 'custom_fields', 'hreflang_v2'],\n",
              "   'fetched_urls': 2355,\n",
              "   'id': '5d090005451c952d4952a59d',\n",
              "   'link_status': 'live',\n",
              "   'project_id': '5d002997451c950e9b0e6ead',\n",
              "   'status': 'done',\n",
              "   'user_id': '5ce40992451c954bf387a12c',\n",
              "   'version': '2.0.0'},\n",
              "  {'crawl_config': {'adobe_analytics_params': {},\n",
              "    'agent_kind': 'web',\n",
              "    'ajax_crawling': False,\n",
              "    'allow_query_params': True,\n",
              "    'alternate_start_urls': [],\n",
              "    'at_internet_params': {},\n",
              "    'crawl_subdomains': False,\n",
              "    'custom_fields': [{'export': {'arity': 'ONE', 'type': 'STRING'},\n",
              "      'name': 'Product_ID',\n",
              "      'namespace': 'custom',\n",
              "      'parse': [{'operations': [{'kind': 'REGEX',\n",
              "          'rule': '<meta property=\"product:retailer_item_id\" content=\"(.*)\">'}],\n",
              "        'source': 'PAGE_CONTENT'}],\n",
              "      'transform': []}],\n",
              "    'dns': [],\n",
              "    'extra_headers': {},\n",
              "    'filter_query_params': False,\n",
              "    'google_analytics_params': {},\n",
              "    'google_search_console_params': {},\n",
              "    'headless': None,\n",
              "    'http_auth': None,\n",
              "    'id': '5d081ba7451c956f8bf6989a',\n",
              "    'ignore_nofollow': False,\n",
              "    'ignore_noindex': False,\n",
              "    'js_rendering': False,\n",
              "    'majestic_params': {},\n",
              "    'max_depth': 15,\n",
              "    'max_speed': 1.0,\n",
              "    'max_url': 500000,\n",
              "    'name': 'default',\n",
              "    'query_params_list': '',\n",
              "    'resource_checker': False,\n",
              "    'reuse_cookies': False,\n",
              "    'robots_txt': [],\n",
              "    'seed_files_mode': True,\n",
              "    'sitemaps': ['https://www.davidyurman.com/products_us.pdp.sitemap.xml'],\n",
              "    'start_url': 'https://www.davidyurman.com',\n",
              "    'strict_sitemaps': True,\n",
              "    'trigger_coc': False,\n",
              "    'use_cookies': True,\n",
              "    'use_proxy': True,\n",
              "    'user_agent': 'OnCrawl',\n",
              "    'user_input_files': [],\n",
              "    'user_seed_files': ['5d081aae451c950cb9fc974c'],\n",
              "    'watched_resources': [],\n",
              "    'webhooks': [],\n",
              "    'whitelist_params_mode': True},\n",
              "   'created_at': 1560812455000,\n",
              "   'cross_analysis_access_logs': None,\n",
              "   'cross_analysis_adobe_analytics': None,\n",
              "   'cross_analysis_at_internet': None,\n",
              "   'cross_analysis_google_analytics': None,\n",
              "   'cross_analysis_google_search_console': None,\n",
              "   'cross_analysis_majestic_back_links': None,\n",
              "   'end_reason': 'ok',\n",
              "   'ended_at': 1560817866000,\n",
              "   'features': ['page_cache', 'redirect', 'custom_fields', 'hreflang_v2'],\n",
              "   'fetched_urls': 2355,\n",
              "   'id': '5d081ba7451c956f8bf6989b',\n",
              "   'link_status': 'archived',\n",
              "   'project_id': '5d002997451c950e9b0e6ead',\n",
              "   'status': 'archived',\n",
              "   'user_id': '5ce40992451c954bf387a12c',\n",
              "   'version': '2.0.0'},\n",
              "  {'crawl_config': {'adobe_analytics_params': {},\n",
              "    'agent_kind': 'web',\n",
              "    'ajax_crawling': False,\n",
              "    'allow_query_params': True,\n",
              "    'alternate_start_urls': [],\n",
              "    'at_internet_params': {},\n",
              "    'crawl_subdomains': False,\n",
              "    'custom_fields': [],\n",
              "    'dns': [],\n",
              "    'extra_headers': {},\n",
              "    'filter_query_params': False,\n",
              "    'google_analytics_params': {},\n",
              "    'google_search_console_params': {},\n",
              "    'headless': None,\n",
              "    'http_auth': None,\n",
              "    'id': '5d002a74451c950e9b0e701d',\n",
              "    'ignore_nofollow': False,\n",
              "    'ignore_noindex': False,\n",
              "    'js_rendering': False,\n",
              "    'majestic_params': {},\n",
              "    'max_depth': 15,\n",
              "    'max_speed': 1.0,\n",
              "    'max_url': 500000,\n",
              "    'name': 'default',\n",
              "    'query_params_list': '',\n",
              "    'resource_checker': False,\n",
              "    'reuse_cookies': False,\n",
              "    'robots_txt': [],\n",
              "    'seed_files_mode': False,\n",
              "    'sitemaps': ['https://www.davidyurman.com/products_us.pdp.sitemap.xml'],\n",
              "    'start_url': 'https://www.davidyurman.com',\n",
              "    'strict_sitemaps': True,\n",
              "    'trigger_coc': False,\n",
              "    'use_cookies': True,\n",
              "    'use_proxy': True,\n",
              "    'user_agent': 'OnCrawl',\n",
              "    'user_input_files': [],\n",
              "    'user_seed_files': [],\n",
              "    'watched_resources': [],\n",
              "    'webhooks': [],\n",
              "    'whitelist_params_mode': True},\n",
              "   'created_at': 1560291956000,\n",
              "   'cross_analysis_access_logs': None,\n",
              "   'cross_analysis_adobe_analytics': None,\n",
              "   'cross_analysis_at_internet': None,\n",
              "   'cross_analysis_google_analytics': None,\n",
              "   'cross_analysis_google_search_console': None,\n",
              "   'cross_analysis_majestic_back_links': None,\n",
              "   'end_reason': 'user_requested',\n",
              "   'ended_at': 1560298350000,\n",
              "   'features': ['page_cache', 'hreflang_v2', 'redirect'],\n",
              "   'fetched_urls': 4037,\n",
              "   'id': '5d002a74451c950e9b0e701e',\n",
              "   'link_status': 'archived',\n",
              "   'project_id': '5d002997451c950e9b0e6ead',\n",
              "   'status': 'archived',\n",
              "   'user_id': '5ce40992451c954bf387a12c',\n",
              "   'version': '2.0.0'}],\n",
              " 'meta': {'filters': {}, 'limit': 20, 'offset': 0, 'sort': None, 'total': 3}}"
            ]
          },
          "metadata": {
            "tags": []
          },
          "execution_count": 21
        }
      ]
    },
    {
      "cell_type": "code",
      "metadata": {
        "id": "skyu3pUpCeCw"
      },
      "source": [
        "def get_crawl(crawl_id):\n",
        "  response = requests.get(\"https://app.oncrawl.com/api/v2/crawls/{crawl_id}\".format(crawl_id=crawl_id),\n",
        "    headers={ 'Authorization': 'Bearer {ACCESS_TOKEN}'.format(ACCESS_TOKEN=access_token)})\n",
        "  \n",
        "  return response.json()  \n"
      ],
      "execution_count": null,
      "outputs": []
    },
    {
      "cell_type": "code",
      "metadata": {
        "id": "xarNnvgJDPRF",
        "outputId": "054b1c33-180e-4500-ea76-81f6a29e9c72",
        "colab": {
          "base_uri": "https://localhost:8080/",
          "height": 1000
        }
      },
      "source": [
        "get_crawl(\"5d090005451c952d4952a59d\")"
      ],
      "execution_count": null,
      "outputs": [
        {
          "output_type": "execute_result",
          "data": {
            "text/plain": [
              "{'crawl': {'crawl_config': {'adobe_analytics_params': {},\n",
              "   'agent_kind': 'web',\n",
              "   'ajax_crawling': False,\n",
              "   'allow_query_params': True,\n",
              "   'alternate_start_urls': [],\n",
              "   'at_internet_params': {},\n",
              "   'crawl_subdomains': False,\n",
              "   'custom_fields': [{'export': {'arity': 'ONE', 'type': 'STRING'},\n",
              "     'name': 'Product_ID',\n",
              "     'namespace': 'custom',\n",
              "     'parse': [{'operations': [{'kind': 'REGEX',\n",
              "         'rule': '<meta property=\"product:retailer_item_id\" content=\"(.*)\">'}],\n",
              "       'source': 'PAGE_CONTENT'}],\n",
              "     'transform': []},\n",
              "    {'export': {'arity': 'ONE', 'type': 'STRING'},\n",
              "     'name': 'Product_ID_reverse',\n",
              "     'namespace': 'custom',\n",
              "     'parse': [{'operations': [{'kind': 'REGEX',\n",
              "         'rule': '<meta content=\\\\\"(.*)\\\\\" property=\\\\\"product:retailer_item_id\\\\\"/>'}],\n",
              "       'source': 'PAGE_CONTENT'}],\n",
              "     'transform': []}],\n",
              "   'dns': [],\n",
              "   'extra_headers': {},\n",
              "   'filter_query_params': False,\n",
              "   'google_analytics_params': {},\n",
              "   'google_search_console_params': {},\n",
              "   'headless': None,\n",
              "   'http_auth': None,\n",
              "   'id': '5d090005451c952d4952a59c',\n",
              "   'ignore_nofollow': False,\n",
              "   'ignore_noindex': False,\n",
              "   'js_rendering': False,\n",
              "   'majestic_params': {},\n",
              "   'max_depth': 15,\n",
              "   'max_speed': 1.0,\n",
              "   'max_url': 500000,\n",
              "   'name': 'default',\n",
              "   'query_params_list': '',\n",
              "   'resource_checker': False,\n",
              "   'reuse_cookies': False,\n",
              "   'robots_txt': [],\n",
              "   'seed_files_mode': True,\n",
              "   'sitemaps': ['https://www.davidyurman.com/products_us.pdp.sitemap.xml'],\n",
              "   'start_url': 'https://www.davidyurman.com',\n",
              "   'strict_sitemaps': True,\n",
              "   'trigger_coc': False,\n",
              "   'use_cookies': True,\n",
              "   'use_proxy': True,\n",
              "   'user_agent': 'OnCrawl',\n",
              "   'user_input_files': [],\n",
              "   'user_seed_files': ['5d081aae451c950cb9fc974c'],\n",
              "   'watched_resources': [],\n",
              "   'webhooks': [],\n",
              "   'whitelist_params_mode': True},\n",
              "  'created_at': 1560870917000,\n",
              "  'cross_analysis_access_logs': None,\n",
              "  'cross_analysis_adobe_analytics': None,\n",
              "  'cross_analysis_at_internet': None,\n",
              "  'cross_analysis_google_analytics': None,\n",
              "  'cross_analysis_google_search_console': None,\n",
              "  'cross_analysis_majestic_back_links': None,\n",
              "  'end_reason': 'ok',\n",
              "  'ended_at': 1560875542000,\n",
              "  'features': ['page_cache', 'redirect', 'custom_fields', 'hreflang_v2'],\n",
              "  'fetched_urls': 2355,\n",
              "  'id': '5d090005451c952d4952a59d',\n",
              "  'link_status': 'live',\n",
              "  'project_id': '5d002997451c950e9b0e6ead',\n",
              "  'status': 'done',\n",
              "  'user_id': '5ce40992451c954bf387a12c',\n",
              "  'version': '2.0.0'}}"
            ]
          },
          "metadata": {
            "tags": []
          },
          "execution_count": 23
        }
      ]
    },
    {
      "cell_type": "code",
      "metadata": {
        "id": "0DkSjAXs3T5D"
      },
      "source": [
        ""
      ],
      "execution_count": null,
      "outputs": []
    },
    {
      "cell_type": "markdown",
      "metadata": {
        "id": "cBeBE5xEDuav"
      },
      "source": [
        "##data API \n",
        "http://developer.oncrawl.com/#Data-API\n",
        "\n",
        "Let's export our crawl\n",
        "\n",
        "http://developer.oncrawl.com/#Export-Queries"
      ]
    },
    {
      "cell_type": "code",
      "metadata": {
        "id": "GbxvlhzeDUME"
      },
      "source": [
        "def export_crawl(crawl_id, fields):\n",
        "  response = requests.post(\"https://app.oncrawl.com/api/v2/data/crawl/{crawl_id}/pages?export\".format(crawl_id=crawl_id),\n",
        "    headers={ 'Authorization': 'Bearer {ACCESS_TOKEN}'.format(ACCESS_TOKEN=access_token) },\n",
        "    json={\n",
        "      \"fields\": fields\n",
        "    }\n",
        "  )\n",
        "\n",
        "  return response\n",
        "\n"
      ],
      "execution_count": null,
      "outputs": []
    },
    {
      "cell_type": "code",
      "metadata": {
        "id": "Ld8xGYmDE0Ud",
        "outputId": "467515fa-9de6-466c-b329-db35072ddd75",
        "colab": {
          "base_uri": "https://localhost:8080/",
          "height": 34
        }
      },
      "source": [
        "export = export_crawl(\"5d090005451c952d4952a59d\", [\"url\", \"canonical\"])\n",
        "export"
      ],
      "execution_count": null,
      "outputs": [
        {
          "output_type": "execute_result",
          "data": {
            "text/plain": [
              "<Response [422]>"
            ]
          },
          "metadata": {
            "tags": []
          },
          "execution_count": 25
        }
      ]
    },
    {
      "cell_type": "code",
      "metadata": {
        "id": "vsj0POaUFCxI",
        "outputId": "075f3d0e-db84-45b4-806b-4d6d15740c85",
        "colab": {
          "base_uri": "https://localhost:8080/",
          "height": 34
        }
      },
      "source": [
        "export.json()"
      ],
      "execution_count": null,
      "outputs": [
        {
          "output_type": "execute_result",
          "data": {
            "text/plain": [
              "{'errors': {'_other': ['unknown field: canonical']}}"
            ]
          },
          "metadata": {
            "tags": []
          },
          "execution_count": 26
        }
      ]
    },
    {
      "cell_type": "code",
      "metadata": {
        "id": "lKuCr4UhFPTu"
      },
      "source": [
        "#if archived, need to restore it"
      ],
      "execution_count": null,
      "outputs": []
    },
    {
      "cell_type": "code",
      "metadata": {
        "id": "1EAPLfpHGH7X",
        "outputId": "4fb62701-7f44-4753-dd54-70d0c5474cdb",
        "colab": {
          "base_uri": "https://localhost:8080/",
          "height": 34
        }
      },
      "source": [
        "export = export_crawl(\"5d090005451c952d4952a59d\", [\"url\", \"rel_canonical\"])\n",
        "export"
      ],
      "execution_count": null,
      "outputs": [
        {
          "output_type": "execute_result",
          "data": {
            "text/plain": [
              "<Response [200]>"
            ]
          },
          "metadata": {
            "tags": []
          },
          "execution_count": 27
        }
      ]
    },
    {
      "cell_type": "code",
      "metadata": {
        "id": "DAqde1J7GLRq",
        "outputId": "728d2dc2-e787-4015-fa3e-2637391296fa",
        "colab": {
          "base_uri": "https://localhost:8080/",
          "height": 377
        }
      },
      "source": [
        "export.json()[\"urls\"]"
      ],
      "execution_count": null,
      "outputs": [
        {
          "output_type": "execute_result",
          "data": {
            "text/plain": [
              "[{'rel_canonical': 'https://www.davidyurman.com/products/kids/kids-jewelry/albion-kids-necklace-with-diamonds-4mm-kn1038-ss.pdp.html',\n",
              "  'url': 'https://www.davidyurman.com/products/kids/kids-jewelry/albion-kids-necklace-with-diamonds-4mm-kn1038-ss.pdp.html'},\n",
              " {'rel_canonical': 'https://www.davidyurman.com/products/kids/kids-jewelry/albion-kids-ring-with-diamonds-4mm-kr1038-ss.pdp.html',\n",
              "  'url': 'https://www.davidyurman.com/products/kids/kids-jewelry/albion-kids-ring-with-diamonds-4mm-kr1038-ss.pdp.html'},\n",
              " {'rel_canonical': 'https://www.davidyurman.com/products/kids/kids-jewelry/cable-collectibles-kids-cross-necklace-with-diamonds-kn1044-ss.pdp.html',\n",
              "  'url': 'https://www.davidyurman.com/products/kids/kids-jewelry/cable-collectibles-kids-cross-necklace-with-diamonds-kn1044-ss.pdp.html'},\n",
              " {'rel_canonical': 'https://www.davidyurman.com/products/kids/kids-jewelry/cable-collectibles-kids-dog-charm-necklace-in-18k-gold-with-diam.pdp.html',\n",
              "  'url': 'https://www.davidyurman.com/products/kids/kids-jewelry/cable-collectibles-kids-dog-charm-necklace-in-18k-gold-with-diam.pdp.html'},\n",
              " {'rel_canonical': 'https://www.davidyurman.com/products/kids/kids-jewelry/cable-collectibles-kids-heart-charm-necklace-in-18k-gold-kn1031-.pdp.html',\n",
              "  'url': 'https://www.davidyurman.com/products/kids/kids-jewelry/cable-collectibles-kids-heart-charm-necklace-in-18k-gold-kn1031-.pdp.html'},\n",
              " {'rel_canonical': 'https://www.davidyurman.com/products/kids/kids-jewelry/cable-collectibles-kids-necklace-birthstone-necklace-in-18k-gold.pdp.html',\n",
              "  'url': 'https://www.davidyurman.com/products/kids/kids-jewelry/cable-collectibles-kids-necklace-birthstone-necklace-in-18k-gold.pdp.html'},\n",
              " {'rel_canonical': 'https://www.davidyurman.com/products/kids/kids-jewelry/cable-collectibles-kids-quad-charm-necklace-in-18k-gold-kn1033-8.pdp.html',\n",
              "  'url': 'https://www.davidyurman.com/products/kids/kids-jewelry/cable-collectibles-kids-quad-charm-necklace-in-18k-gold-kn1033-8.pdp.html'},\n",
              " {'rel_canonical': 'https://www.davidyurman.com/products/kids/kids-jewelry/cable-collectibles-kids-star-charm-necklace-in-18k-gold-kn1030-8.pdp.html',\n",
              "  'url': 'https://www.davidyurman.com/products/kids/kids-jewelry/cable-collectibles-kids-star-charm-necklace-in-18k-gold-kn1030-8.pdp.html'},\n",
              " {'rel_canonical': 'https://www.davidyurman.com/products/kids/kids-jewelry/cable-collectibles-kids-star-of-david-necklace-with-diamonds-kn1.pdp.html',\n",
              "  'url': 'https://www.davidyurman.com/products/kids/kids-jewelry/cable-collectibles-kids-star-of-david-necklace-with-diamonds-kn1.pdp.html'},\n",
              " {'rel_canonical': 'https://www.davidyurman.com/products/kids/kids-jewelry/cable-collectibles-kids-teardrop-charm-necklace-in-18k-gold-kn10.pdp.html',\n",
              "  'url': 'https://www.davidyurman.com/products/kids/kids-jewelry/cable-collectibles-kids-teardrop-charm-necklace-in-18k-gold-kn10.pdp.html'}]"
            ]
          },
          "metadata": {
            "tags": []
          },
          "execution_count": 28
        }
      ]
    },
    {
      "cell_type": "code",
      "metadata": {
        "id": "Y-w4G9eKGN1d",
        "outputId": "e3e5e928-3e43-454c-80f0-b2b7d9c4a0c9",
        "colab": {
          "base_uri": "https://localhost:8080/",
          "height": 85
        }
      },
      "source": [
        "export.json()[\"meta\"]"
      ],
      "execution_count": null,
      "outputs": [
        {
          "output_type": "execute_result",
          "data": {
            "text/plain": [
              "{'columns': ['url', 'rel_canonical'],\n",
              " 'in_cr': False,\n",
              " 'total_hits': 2355,\n",
              " 'total_pages': 236}"
            ]
          },
          "metadata": {
            "tags": []
          },
          "execution_count": 69
        }
      ]
    },
    {
      "cell_type": "markdown",
      "metadata": {
        "id": "T1cM_H2oJc6w"
      },
      "source": [
        "#Semrush API\n",
        "\n",
        "Next, let's make API calls to SEMrush\n",
        "\n",
        "https://www.semrush.com/api-analytics/\n",
        "\n"
      ]
    },
    {
      "cell_type": "code",
      "metadata": {
        "id": "kUnaw--ULXwR"
      },
      "source": [
        "key=\"INPUT SEMrush API key\""
      ],
      "execution_count": null,
      "outputs": []
    },
    {
      "cell_type": "code",
      "metadata": {
        "id": "Oa2F_H5BJKgU"
      },
      "source": [
        "from urllib.parse import urlencode, urlparse, urlunparse, quote\n",
        "import pandas as pd\n",
        "\n",
        "def get_seo_color_data(color, domain, database=\"us\", export_columns=\"Ph,Po,Nq,Ur,Tg,Td,Ts\", display_limit=10000, display_filter=\"+|Ph|Co|{color}\"):\n",
        "  \n",
        "  global key\n",
        "  \n",
        "  url_params={\"type\": \"domain_organic\",\n",
        "             \"key\": key,\n",
        "              \"display_filter\": display_filter.format(color=color),\n",
        "             \"display_limit\": display_limit,\n",
        "             \"export_columns\": export_columns,\n",
        "             \"domain\": domain,\n",
        "             \"database\": database\n",
        "             }\n",
        "\n",
        "  api_url=\"https://api.semrush.com/\"\n",
        "\n",
        "  qs = urlencode(url_params)\n",
        "\n",
        "  u = urlparse(api_url)\n",
        "\n",
        "  api_request = urlunparse((u.scheme, u.netloc, u.path, u.params, qs, u.fragment))\n",
        "  \n",
        "  #print(api_request)\n",
        "  \n",
        "  r = requests.get(api_request)\n",
        "  \n",
        "  if r.status_code == 200:\n",
        "    results = r.text.split(\"\\r\\n\") #\n",
        "    headers = results[0].split(\";\") # save result headers to list\n",
        "    table = [x.split(\";\") for x in results[1:]] #save columns to list of lists\n",
        "    \n",
        "    df = pd.DataFrame(table, columns=headers).dropna() #remove null types\n",
        "    \n",
        "    return df\n",
        "  \n",
        "  else:\n",
        "    print(\"API call failed with code {code}\".format(r.status_code))\n",
        "    \n",
        "    return None"
      ],
      "execution_count": null,
      "outputs": []
    },
    {
      "cell_type": "code",
      "metadata": {
        "id": "QPUc5SYBLWZ1"
      },
      "source": [
        "database=\"us\"\n",
        "domain=\"davidyurman.com\"\n",
        "color=\"white\"\n",
        "\n",
        "domain_df = get_seo_color_data(color, domain, export_columns=\"Ph,Po,Tg\") # only keyword, position and traffic\n",
        "\n",
        "#we explicitly convert numbers to integers to be able to perform arithmetic operations later\n",
        "convert_dict = {'Keyword': str, 'Position': int, 'Traffic': int} \n",
        "\n",
        "domain_df = domain_df.astype(convert_dict)"
      ],
      "execution_count": null,
      "outputs": []
    },
    {
      "cell_type": "code",
      "metadata": {
        "id": "-voFxPtqMKuo",
        "outputId": "58267216-a106-4584-c157-aaf11ff7e3d6",
        "colab": {
          "base_uri": "https://localhost:8080/",
          "height": 1000
        }
      },
      "source": [
        "domain_df"
      ],
      "execution_count": null,
      "outputs": [
        {
          "output_type": "execute_result",
          "data": {
            "text/html": [
              "<div>\n",
              "<style scoped>\n",
              "    .dataframe tbody tr th:only-of-type {\n",
              "        vertical-align: middle;\n",
              "    }\n",
              "\n",
              "    .dataframe tbody tr th {\n",
              "        vertical-align: top;\n",
              "    }\n",
              "\n",
              "    .dataframe thead th {\n",
              "        text-align: right;\n",
              "    }\n",
              "</style>\n",
              "<table border=\"1\" class=\"dataframe\">\n",
              "  <thead>\n",
              "    <tr style=\"text-align: right;\">\n",
              "      <th></th>\n",
              "      <th>Keyword</th>\n",
              "      <th>Position</th>\n",
              "      <th>Traffic</th>\n",
              "    </tr>\n",
              "  </thead>\n",
              "  <tbody>\n",
              "    <tr>\n",
              "      <th>0</th>\n",
              "      <td>david yurman white gold bracelet</td>\n",
              "      <td>1</td>\n",
              "      <td>72</td>\n",
              "    </tr>\n",
              "    <tr>\n",
              "      <th>1</th>\n",
              "      <td>white gold</td>\n",
              "      <td>26</td>\n",
              "      <td>60</td>\n",
              "    </tr>\n",
              "    <tr>\n",
              "      <th>2</th>\n",
              "      <td>white gold pendant mens</td>\n",
              "      <td>7</td>\n",
              "      <td>40</td>\n",
              "    </tr>\n",
              "    <tr>\n",
              "      <th>3</th>\n",
              "      <td>mens white gold necklace</td>\n",
              "      <td>13</td>\n",
              "      <td>39</td>\n",
              "    </tr>\n",
              "    <tr>\n",
              "      <th>4</th>\n",
              "      <td>white david yurman bracelet</td>\n",
              "      <td>1</td>\n",
              "      <td>32</td>\n",
              "    </tr>\n",
              "    <tr>\n",
              "      <th>5</th>\n",
              "      <td>18k white gold box chain</td>\n",
              "      <td>1</td>\n",
              "      <td>32</td>\n",
              "    </tr>\n",
              "    <tr>\n",
              "      <th>6</th>\n",
              "      <td>david yurman white plains ny</td>\n",
              "      <td>1</td>\n",
              "      <td>24</td>\n",
              "    </tr>\n",
              "    <tr>\n",
              "      <th>7</th>\n",
              "      <td>white gold band rings</td>\n",
              "      <td>13</td>\n",
              "      <td>21</td>\n",
              "    </tr>\n",
              "    <tr>\n",
              "      <th>8</th>\n",
              "      <td>white gold jewelry</td>\n",
              "      <td>12</td>\n",
              "      <td>20</td>\n",
              "    </tr>\n",
              "    <tr>\n",
              "      <th>9</th>\n",
              "      <td>david yurman initial necklace white gold</td>\n",
              "      <td>1</td>\n",
              "      <td>16</td>\n",
              "    </tr>\n",
              "    <tr>\n",
              "      <th>10</th>\n",
              "      <td>white gold necklace</td>\n",
              "      <td>29</td>\n",
              "      <td>14</td>\n",
              "    </tr>\n",
              "    <tr>\n",
              "      <th>11</th>\n",
              "      <td>white gold chain necklaces</td>\n",
              "      <td>16</td>\n",
              "      <td>14</td>\n",
              "    </tr>\n",
              "    <tr>\n",
              "      <th>12</th>\n",
              "      <td>mens white gold jewelry</td>\n",
              "      <td>6</td>\n",
              "      <td>13</td>\n",
              "    </tr>\n",
              "    <tr>\n",
              "      <th>13</th>\n",
              "      <td>white gold pinky ring</td>\n",
              "      <td>11</td>\n",
              "      <td>12</td>\n",
              "    </tr>\n",
              "    <tr>\n",
              "      <th>14</th>\n",
              "      <td>mens white gold wedding bands</td>\n",
              "      <td>40</td>\n",
              "      <td>8</td>\n",
              "    </tr>\n",
              "    <tr>\n",
              "      <th>15</th>\n",
              "      <td>mens white gold necklace with pendant</td>\n",
              "      <td>10</td>\n",
              "      <td>7</td>\n",
              "    </tr>\n",
              "    <tr>\n",
              "      <th>16</th>\n",
              "      <td>david yurman white topaz necklace</td>\n",
              "      <td>2</td>\n",
              "      <td>6</td>\n",
              "    </tr>\n",
              "    <tr>\n",
              "      <th>17</th>\n",
              "      <td>white gold initial necklace</td>\n",
              "      <td>11</td>\n",
              "      <td>6</td>\n",
              "    </tr>\n",
              "    <tr>\n",
              "      <th>18</th>\n",
              "      <td>bloomingdales white plains</td>\n",
              "      <td>13</td>\n",
              "      <td>6</td>\n",
              "    </tr>\n",
              "    <tr>\n",
              "      <th>19</th>\n",
              "      <td>18k white gold necklace</td>\n",
              "      <td>12</td>\n",
              "      <td>5</td>\n",
              "    </tr>\n",
              "    <tr>\n",
              "      <th>20</th>\n",
              "      <td>mens white bracelet</td>\n",
              "      <td>10</td>\n",
              "      <td>4</td>\n",
              "    </tr>\n",
              "    <tr>\n",
              "      <th>21</th>\n",
              "      <td>mens white gold bracelet</td>\n",
              "      <td>30</td>\n",
              "      <td>4</td>\n",
              "    </tr>\n",
              "    <tr>\n",
              "      <th>22</th>\n",
              "      <td>white bracelet</td>\n",
              "      <td>14</td>\n",
              "      <td>4</td>\n",
              "    </tr>\n",
              "    <tr>\n",
              "      <th>23</th>\n",
              "      <td>mens white ring</td>\n",
              "      <td>11</td>\n",
              "      <td>4</td>\n",
              "    </tr>\n",
              "    <tr>\n",
              "      <th>24</th>\n",
              "      <td>white gold bracelet womens</td>\n",
              "      <td>20</td>\n",
              "      <td>3</td>\n",
              "    </tr>\n",
              "    <tr>\n",
              "      <th>25</th>\n",
              "      <td>gold and white necklace</td>\n",
              "      <td>11</td>\n",
              "      <td>3</td>\n",
              "    </tr>\n",
              "    <tr>\n",
              "      <th>26</th>\n",
              "      <td>white gold rings</td>\n",
              "      <td>41</td>\n",
              "      <td>3</td>\n",
              "    </tr>\n",
              "    <tr>\n",
              "      <th>27</th>\n",
              "      <td>white gold chains for men</td>\n",
              "      <td>31</td>\n",
              "      <td>3</td>\n",
              "    </tr>\n",
              "    <tr>\n",
              "      <th>28</th>\n",
              "      <td>white gold wedding bands</td>\n",
              "      <td>41</td>\n",
              "      <td>3</td>\n",
              "    </tr>\n",
              "    <tr>\n",
              "      <th>29</th>\n",
              "      <td>white gold box chain</td>\n",
              "      <td>14</td>\n",
              "      <td>3</td>\n",
              "    </tr>\n",
              "    <tr>\n",
              "      <th>...</th>\n",
              "      <td>...</td>\n",
              "      <td>...</td>\n",
              "      <td>...</td>\n",
              "    </tr>\n",
              "    <tr>\n",
              "      <th>2674</th>\n",
              "      <td>cheap white gold necklace for womens</td>\n",
              "      <td>30</td>\n",
              "      <td>0</td>\n",
              "    </tr>\n",
              "    <tr>\n",
              "      <th>2675</th>\n",
              "      <td>size 4 white gold rings</td>\n",
              "      <td>40</td>\n",
              "      <td>0</td>\n",
              "    </tr>\n",
              "    <tr>\n",
              "      <th>2676</th>\n",
              "      <td>matching wedding bands white gold</td>\n",
              "      <td>96</td>\n",
              "      <td>0</td>\n",
              "    </tr>\n",
              "    <tr>\n",
              "      <th>2677</th>\n",
              "      <td>engagement ring wraps white gold</td>\n",
              "      <td>60</td>\n",
              "      <td>0</td>\n",
              "    </tr>\n",
              "    <tr>\n",
              "      <th>2678</th>\n",
              "      <td>white tag</td>\n",
              "      <td>88</td>\n",
              "      <td>0</td>\n",
              "    </tr>\n",
              "    <tr>\n",
              "      <th>2679</th>\n",
              "      <td>fine white gold necklace chain</td>\n",
              "      <td>67</td>\n",
              "      <td>0</td>\n",
              "    </tr>\n",
              "    <tr>\n",
              "      <th>2680</th>\n",
              "      <td>fine white gold necklace chain</td>\n",
              "      <td>68</td>\n",
              "      <td>0</td>\n",
              "    </tr>\n",
              "    <tr>\n",
              "      <th>2681</th>\n",
              "      <td>black diamond white gold wedding rings</td>\n",
              "      <td>80</td>\n",
              "      <td>0</td>\n",
              "    </tr>\n",
              "    <tr>\n",
              "      <th>2682</th>\n",
              "      <td>white gold sapphire earrings</td>\n",
              "      <td>82</td>\n",
              "      <td>0</td>\n",
              "    </tr>\n",
              "    <tr>\n",
              "      <th>2683</th>\n",
              "      <td>white gold charms</td>\n",
              "      <td>64</td>\n",
              "      <td>0</td>\n",
              "    </tr>\n",
              "    <tr>\n",
              "      <th>2684</th>\n",
              "      <td>white jade pendant</td>\n",
              "      <td>89</td>\n",
              "      <td>0</td>\n",
              "    </tr>\n",
              "    <tr>\n",
              "      <th>2685</th>\n",
              "      <td>white opal rings rose gold</td>\n",
              "      <td>88</td>\n",
              "      <td>0</td>\n",
              "    </tr>\n",
              "    <tr>\n",
              "      <th>2686</th>\n",
              "      <td>necklace designs with white stone</td>\n",
              "      <td>75</td>\n",
              "      <td>0</td>\n",
              "    </tr>\n",
              "    <tr>\n",
              "      <th>2687</th>\n",
              "      <td>white sapphire half eternity band</td>\n",
              "      <td>72</td>\n",
              "      <td>0</td>\n",
              "    </tr>\n",
              "    <tr>\n",
              "      <th>2688</th>\n",
              "      <td>white gold pink topaz ring</td>\n",
              "      <td>73</td>\n",
              "      <td>0</td>\n",
              "    </tr>\n",
              "    <tr>\n",
              "      <th>2689</th>\n",
              "      <td>3mm white gold wedding band</td>\n",
              "      <td>99</td>\n",
              "      <td>0</td>\n",
              "    </tr>\n",
              "    <tr>\n",
              "      <th>2690</th>\n",
              "      <td>white topaz price in india</td>\n",
              "      <td>89</td>\n",
              "      <td>0</td>\n",
              "    </tr>\n",
              "    <tr>\n",
              "      <th>2691</th>\n",
              "      <td>love necklace white gold diamonds</td>\n",
              "      <td>79</td>\n",
              "      <td>0</td>\n",
              "    </tr>\n",
              "    <tr>\n",
              "      <th>2692</th>\n",
              "      <td>can you use a silver polishing cloth on white ...</td>\n",
              "      <td>23</td>\n",
              "      <td>0</td>\n",
              "    </tr>\n",
              "    <tr>\n",
              "      <th>2693</th>\n",
              "      <td>white gold necklace for her</td>\n",
              "      <td>18</td>\n",
              "      <td>0</td>\n",
              "    </tr>\n",
              "    <tr>\n",
              "      <th>2694</th>\n",
              "      <td>white gold rings with colored stones</td>\n",
              "      <td>61</td>\n",
              "      <td>0</td>\n",
              "    </tr>\n",
              "    <tr>\n",
              "      <th>2695</th>\n",
              "      <td>monogram bracelet white gold</td>\n",
              "      <td>86</td>\n",
              "      <td>0</td>\n",
              "    </tr>\n",
              "    <tr>\n",
              "      <th>2696</th>\n",
              "      <td>white gold cuban link choker</td>\n",
              "      <td>77</td>\n",
              "      <td>0</td>\n",
              "    </tr>\n",
              "    <tr>\n",
              "      <th>2697</th>\n",
              "      <td>white gold cuban link choker</td>\n",
              "      <td>76</td>\n",
              "      <td>0</td>\n",
              "    </tr>\n",
              "    <tr>\n",
              "      <th>2698</th>\n",
              "      <td>black and white bracelet meaning</td>\n",
              "      <td>67</td>\n",
              "      <td>0</td>\n",
              "    </tr>\n",
              "    <tr>\n",
              "      <th>2699</th>\n",
              "      <td>black and white diamond pendant necklace</td>\n",
              "      <td>79</td>\n",
              "      <td>0</td>\n",
              "    </tr>\n",
              "    <tr>\n",
              "      <th>2700</th>\n",
              "      <td>solid white gold wedding band</td>\n",
              "      <td>73</td>\n",
              "      <td>0</td>\n",
              "    </tr>\n",
              "    <tr>\n",
              "      <th>2701</th>\n",
              "      <td>micro pave wedding band white gold</td>\n",
              "      <td>99</td>\n",
              "      <td>0</td>\n",
              "    </tr>\n",
              "    <tr>\n",
              "      <th>2702</th>\n",
              "      <td>white gold diamond cut chain</td>\n",
              "      <td>71</td>\n",
              "      <td>0</td>\n",
              "    </tr>\n",
              "    <tr>\n",
              "      <th>2703</th>\n",
              "      <td>black and white rosary beads</td>\n",
              "      <td>28</td>\n",
              "      <td>0</td>\n",
              "    </tr>\n",
              "  </tbody>\n",
              "</table>\n",
              "<p>2704 rows × 3 columns</p>\n",
              "</div>"
            ],
            "text/plain": [
              "                                                Keyword  Position  Traffic\n",
              "0                      david yurman white gold bracelet         1       72\n",
              "1                                            white gold        26       60\n",
              "2                               white gold pendant mens         7       40\n",
              "3                              mens white gold necklace        13       39\n",
              "4                           white david yurman bracelet         1       32\n",
              "5                              18k white gold box chain         1       32\n",
              "6                          david yurman white plains ny         1       24\n",
              "7                                 white gold band rings        13       21\n",
              "8                                    white gold jewelry        12       20\n",
              "9              david yurman initial necklace white gold         1       16\n",
              "10                                  white gold necklace        29       14\n",
              "11                           white gold chain necklaces        16       14\n",
              "12                              mens white gold jewelry         6       13\n",
              "13                                white gold pinky ring        11       12\n",
              "14                        mens white gold wedding bands        40        8\n",
              "15                mens white gold necklace with pendant        10        7\n",
              "16                    david yurman white topaz necklace         2        6\n",
              "17                          white gold initial necklace        11        6\n",
              "18                           bloomingdales white plains        13        6\n",
              "19                              18k white gold necklace        12        5\n",
              "20                                  mens white bracelet        10        4\n",
              "21                             mens white gold bracelet        30        4\n",
              "22                                       white bracelet        14        4\n",
              "23                                      mens white ring        11        4\n",
              "24                           white gold bracelet womens        20        3\n",
              "25                              gold and white necklace        11        3\n",
              "26                                     white gold rings        41        3\n",
              "27                            white gold chains for men        31        3\n",
              "28                             white gold wedding bands        41        3\n",
              "29                                 white gold box chain        14        3\n",
              "...                                                 ...       ...      ...\n",
              "2674               cheap white gold necklace for womens        30        0\n",
              "2675                            size 4 white gold rings        40        0\n",
              "2676                  matching wedding bands white gold        96        0\n",
              "2677                   engagement ring wraps white gold        60        0\n",
              "2678                                          white tag        88        0\n",
              "2679                     fine white gold necklace chain        67        0\n",
              "2680                     fine white gold necklace chain        68        0\n",
              "2681             black diamond white gold wedding rings        80        0\n",
              "2682                       white gold sapphire earrings        82        0\n",
              "2683                                  white gold charms        64        0\n",
              "2684                                 white jade pendant        89        0\n",
              "2685                         white opal rings rose gold        88        0\n",
              "2686                  necklace designs with white stone        75        0\n",
              "2687                  white sapphire half eternity band        72        0\n",
              "2688                         white gold pink topaz ring        73        0\n",
              "2689                        3mm white gold wedding band        99        0\n",
              "2690                         white topaz price in india        89        0\n",
              "2691                  love necklace white gold diamonds        79        0\n",
              "2692  can you use a silver polishing cloth on white ...        23        0\n",
              "2693                        white gold necklace for her        18        0\n",
              "2694               white gold rings with colored stones        61        0\n",
              "2695                       monogram bracelet white gold        86        0\n",
              "2696                       white gold cuban link choker        77        0\n",
              "2697                       white gold cuban link choker        76        0\n",
              "2698                   black and white bracelet meaning        67        0\n",
              "2699           black and white diamond pendant necklace        79        0\n",
              "2700                      solid white gold wedding band        73        0\n",
              "2701                 micro pave wedding band white gold        99        0\n",
              "2702                       white gold diamond cut chain        71        0\n",
              "2703                       black and white rosary beads        28        0\n",
              "\n",
              "[2704 rows x 3 columns]"
            ]
          },
          "metadata": {
            "tags": []
          },
          "execution_count": 78
        }
      ]
    },
    {
      "cell_type": "code",
      "metadata": {
        "id": "1PdtjY_KMf20"
      },
      "source": [
        ""
      ],
      "execution_count": null,
      "outputs": []
    },
    {
      "cell_type": "markdown",
      "metadata": {
        "id": "sGln2Bhl3WSn"
      },
      "source": [
        "#Technical Plan \n",
        "\n",
        "We are going to automate the advanced duplicate content technique discussed in this article https://www.searchenginejournal.com/advanced-duplicate-content-consolidation-python/314471/\n",
        "\n",
        "Our plan:\n",
        "\n",
        "We will trigger function calls by pushing messages to pub/sub messages\n",
        "\n",
        "1. Write a Google Cloud function to export OnCrawl data and save it to a cloud storage bucket\n",
        "2. Write another function to export SEMrush data and save it to another storage bucket\n",
        "3. Use the datasets to generate canonical clusters and generate a Google Sheet\n",
        "4. Publish the Google Sheet to the Cloudflare CDN\n",
        "\n",
        "\n",
        "\n"
      ]
    },
    {
      "cell_type": "markdown",
      "metadata": {
        "id": "2dYJXsjzPIWs"
      },
      "source": [
        "#OnCrawl Google Cloud function\n",
        "\n",
        "Enable Cloud functions\n",
        "https://console.cloud.google.com/apis/library/cloudfunctions.googleapis.com?pli=1\n",
        "\n",
        "Enable Cloud Scheduler \n",
        "https://console.cloud.google.com/apis/library/cloudscheduler.googleapis.com\n",
        "\n",
        "Schedule calls https://cloud.google.com/scheduler/\n",
        "\n",
        "\n",
        "The other services we’ll need (Cloud Storage API, and Pub/Sub API) are already enabled.\n"
      ]
    },
    {
      "cell_type": "code",
      "metadata": {
        "id": "5Kuo-GSnOIt8",
        "outputId": "2cb33cd8-fde7-4cc9-f22e-799a7cf2f3c2",
        "colab": {
          "base_uri": "https://localhost:8080/",
          "height": 119
        }
      },
      "source": [
        "!gcloud -v"
      ],
      "execution_count": null,
      "outputs": [
        {
          "output_type": "stream",
          "text": [
            "Google Cloud SDK 259.0.0\n",
            "\n",
            "\n",
            "To take a quick anonymous survey, run:\n",
            "  $ gcloud alpha survey\n",
            "\n"
          ],
          "name": "stdout"
        }
      ]
    },
    {
      "cell_type": "code",
      "metadata": {
        "id": "nvg9IfYDxttq",
        "outputId": "32eb99a0-a728-4d8c-dbce-0ed36d5a4152",
        "colab": {
          "base_uri": "https://localhost:8080/",
          "height": 360
        }
      },
      "source": [
        "#https://googleapis.dev/python/google-api-core/latest/auth.html\n",
        "!gcloud auth application-default login\n"
      ],
      "execution_count": null,
      "outputs": [
        {
          "output_type": "stream",
          "text": [
            "Go to the following link in your browser:\n",
            "\n",
            "    https://accounts.google.com/o/oauth2/auth?code_challenge=2kGyNbfhgLT6-2V-x3iqC9Hp9nA11GcLOjXY8qn0Yc8&prompt=select_account&code_challenge_method=S256&access_type=offline&redirect_uri=urn%3Aietf%3Awg%3Aoauth%3A2.0%3Aoob&response_type=code&client_id=764086051850-6qr4p6gpi6hn506pt8ejuq83di341hur.apps.googleusercontent.com&scope=https%3A%2F%2Fwww.googleapis.com%2Fauth%2Fuserinfo.email+https%3A%2F%2Fwww.googleapis.com%2Fauth%2Fcloud-platform+https%3A%2F%2Fwww.googleapis.com%2Fauth%2Faccounts.reauth\n",
            "\n",
            "\n",
            "Enter verification code: 4/rQE7lDkwcY9Dh9VYK_gmNmldyeZ2vegIoDm_OUCg5LTZDvDRE4DLVtk\n",
            "\n",
            "Credentials saved to file: [/content/.config/application_default_credentials.json]\n",
            "\n",
            "These credentials will be used by any library that requests\n",
            "Application Default Credentials.\n",
            "\n",
            "To generate an access token for other uses, run:\n",
            "  gcloud auth application-default print-access-token\n",
            "\n",
            "\n",
            "To take a quick anonymous survey, run:\n",
            "  $ gcloud alpha survey\n",
            "\n"
          ],
          "name": "stdout"
        }
      ]
    },
    {
      "cell_type": "code",
      "metadata": {
        "id": "EoQNKdRiwTut"
      },
      "source": [
        "#!gcloud auth login --no-launch-browser"
      ],
      "execution_count": null,
      "outputs": []
    },
    {
      "cell_type": "code",
      "metadata": {
        "id": "aXn-5T2YwzG_",
        "outputId": "9091eb40-a4a6-43b2-e40e-52e21ccb2984",
        "colab": {
          "base_uri": "https://localhost:8080/",
          "height": 34
        }
      },
      "source": [
        "!gcloud config set project TYPE YOUR PROJECT NAME HERE"
      ],
      "execution_count": null,
      "outputs": [
        {
          "output_type": "stream",
          "text": [
            "Updated property [core/project].\n"
          ],
          "name": "stdout"
        }
      ]
    },
    {
      "cell_type": "markdown",
      "metadata": {
        "id": "G2ip3jsNTPUi"
      },
      "source": [
        "Create a Google Cloud Storage bucket Go to https://console.cloud.google.com/storage/browser"
      ]
    },
    {
      "cell_type": "markdown",
      "metadata": {
        "id": "15rbV_RDUUtV"
      },
      "source": [
        "Set up the scheduled job Go to https://console.cloud.google.com/cloudscheduler\n",
        "\n",
        "frequency: 0 9 * * 1 - Every Monday at 9am EST\n",
        "topic: oncrawl_data\n",
        "payload: all\n",
        "\n",
        "https://cloud.google.com/scheduler/docs/configuring/cron-job-schedules"
      ]
    },
    {
      "cell_type": "markdown",
      "metadata": {
        "id": "Hcbvc31DZZr9"
      },
      "source": [
        "Create the Google Cloud function\n",
        "https://cloud.google.com/functions/docs/writing/#functions-writing-helloworld-background-python\n",
        "https://cloud.google.com/functions/docs/writing/background'\n",
        "\n",
        "https://console.cloud.google.com/functions/list?_ga=2.230322075.-688741304.1568838388&project=intent-prediction-bert&folder&organizationId=318124297531\n"
      ]
    },
    {
      "cell_type": "code",
      "metadata": {
        "id": "JR-tUC-9chuF"
      },
      "source": [
        ""
      ],
      "execution_count": null,
      "outputs": []
    },
    {
      "cell_type": "markdown",
      "metadata": {
        "id": "zDAO5RPUvC3q"
      },
      "source": [
        "#Google Cloud Storage"
      ]
    },
    {
      "cell_type": "code",
      "metadata": {
        "id": "k92frJfHvFL7",
        "outputId": "c7afcdb1-90ac-4409-eb6a-f6871b783c9e",
        "colab": {
          "base_uri": "https://localhost:8080/",
          "height": 360
        }
      },
      "source": [
        "!pip install google-cloud-storage"
      ],
      "execution_count": null,
      "outputs": [
        {
          "output_type": "stream",
          "text": [
            "Requirement already satisfied: google-cloud-storage in /usr/local/lib/python3.6/dist-packages (1.16.1)\n",
            "Requirement already satisfied: google-cloud-core<2.0dev,>=1.0.0 in /usr/local/lib/python3.6/dist-packages (from google-cloud-storage) (1.0.3)\n",
            "Requirement already satisfied: google-resumable-media>=0.3.1 in /usr/local/lib/python3.6/dist-packages (from google-cloud-storage) (0.4.0)\n",
            "Requirement already satisfied: google-auth>=1.2.0 in /usr/local/lib/python3.6/dist-packages (from google-cloud-storage) (1.4.2)\n",
            "Requirement already satisfied: google-api-core<2.0.0dev,>=1.14.0 in /usr/local/lib/python3.6/dist-packages (from google-cloud-core<2.0dev,>=1.0.0->google-cloud-storage) (1.14.2)\n",
            "Requirement already satisfied: six in /usr/local/lib/python3.6/dist-packages (from google-resumable-media>=0.3.1->google-cloud-storage) (1.12.0)\n",
            "Requirement already satisfied: cachetools>=2.0.0 in /usr/local/lib/python3.6/dist-packages (from google-auth>=1.2.0->google-cloud-storage) (3.1.1)\n",
            "Requirement already satisfied: pyasn1-modules>=0.2.1 in /usr/local/lib/python3.6/dist-packages (from google-auth>=1.2.0->google-cloud-storage) (0.2.6)\n",
            "Requirement already satisfied: rsa>=3.1.4 in /usr/local/lib/python3.6/dist-packages (from google-auth>=1.2.0->google-cloud-storage) (4.0)\n",
            "Requirement already satisfied: googleapis-common-protos<2.0dev,>=1.6.0 in /usr/local/lib/python3.6/dist-packages (from google-api-core<2.0.0dev,>=1.14.0->google-cloud-core<2.0dev,>=1.0.0->google-cloud-storage) (1.6.0)\n",
            "Requirement already satisfied: requests<3.0.0dev,>=2.18.0 in /usr/local/lib/python3.6/dist-packages (from google-api-core<2.0.0dev,>=1.14.0->google-cloud-core<2.0dev,>=1.0.0->google-cloud-storage) (2.21.0)\n",
            "Requirement already satisfied: setuptools>=34.0.0 in /usr/local/lib/python3.6/dist-packages (from google-api-core<2.0.0dev,>=1.14.0->google-cloud-core<2.0dev,>=1.0.0->google-cloud-storage) (41.2.0)\n",
            "Requirement already satisfied: protobuf>=3.4.0 in /usr/local/lib/python3.6/dist-packages (from google-api-core<2.0.0dev,>=1.14.0->google-cloud-core<2.0dev,>=1.0.0->google-cloud-storage) (3.7.1)\n",
            "Requirement already satisfied: pytz in /usr/local/lib/python3.6/dist-packages (from google-api-core<2.0.0dev,>=1.14.0->google-cloud-core<2.0dev,>=1.0.0->google-cloud-storage) (2018.9)\n",
            "Requirement already satisfied: pyasn1<0.5.0,>=0.4.6 in /usr/local/lib/python3.6/dist-packages (from pyasn1-modules>=0.2.1->google-auth>=1.2.0->google-cloud-storage) (0.4.7)\n",
            "Requirement already satisfied: certifi>=2017.4.17 in /usr/local/lib/python3.6/dist-packages (from requests<3.0.0dev,>=2.18.0->google-api-core<2.0.0dev,>=1.14.0->google-cloud-core<2.0dev,>=1.0.0->google-cloud-storage) (2019.6.16)\n",
            "Requirement already satisfied: chardet<3.1.0,>=3.0.2 in /usr/local/lib/python3.6/dist-packages (from requests<3.0.0dev,>=2.18.0->google-api-core<2.0.0dev,>=1.14.0->google-cloud-core<2.0dev,>=1.0.0->google-cloud-storage) (3.0.4)\n",
            "Requirement already satisfied: idna<2.9,>=2.5 in /usr/local/lib/python3.6/dist-packages (from requests<3.0.0dev,>=2.18.0->google-api-core<2.0.0dev,>=1.14.0->google-cloud-core<2.0dev,>=1.0.0->google-cloud-storage) (2.8)\n",
            "Requirement already satisfied: urllib3<1.25,>=1.21.1 in /usr/local/lib/python3.6/dist-packages (from requests<3.0.0dev,>=2.18.0->google-api-core<2.0.0dev,>=1.14.0->google-cloud-core<2.0dev,>=1.0.0->google-cloud-storage) (1.24.3)\n"
          ],
          "name": "stdout"
        }
      ]
    },
    {
      "cell_type": "markdown",
      "metadata": {
        "id": "JfV1TLyI6pn-"
      },
      "source": [
        "This is an utility function to upload files to Google Cloud Storage from Python"
      ]
    },
    {
      "cell_type": "code",
      "metadata": {
        "id": "lQtC8MRqvVGi"
      },
      "source": [
        "#https://googleapis.dev/python/google-api-core/latest/auth.html\n",
        "#https://pypi.org/project/google-cloud-storage/\n",
        "\n",
        "def upload_to_bucket(bucket_name, filename, text):\n",
        "    from google.cloud import storage\n",
        "    \n",
        "    client = storage.Client()\n",
        "    bucket = client.get_bucket(bucket_name) \n",
        "\n",
        "    blob = bucket.blob(filename)\n",
        "    blob.upload_from_string(text)\n",
        "    \n",
        "    print(\"file uploaded to bucket\")\n"
      ],
      "execution_count": null,
      "outputs": []
    },
    {
      "cell_type": "markdown",
      "metadata": {
        "id": "X6ZACeX960lw"
      },
      "source": [
        "This is our OnCrawl Cloud Function that will be triggered by Pub/Sub messages"
      ]
    },
    {
      "cell_type": "code",
      "metadata": {
        "id": "DzsVFJpMwAPV"
      },
      "source": [
        "def oncrawl_data(event, context):\n",
        "    \"\"\"Background Cloud Function to be triggered by Pub/Sub.\n",
        "    Args:\n",
        "         event (dict):  The dictionary with data specific to this type of\n",
        "         event. The `data` field contains the PubsubMessage message. The\n",
        "         `attributes` field will contain custom attributes if there are any.\n",
        "         context (google.cloud.functions.Context): The Cloud Functions event\n",
        "         metadata. The `event_id` field contains the Pub/Sub message ID. The\n",
        "         `timestamp` field contains the publish time.\n",
        "    \"\"\"\n",
        "    import base64\n",
        "\n",
        "    print(\"\"\"This Function was triggered by messageId {} published at {}\n",
        "    \"\"\".format(context.event_id, context.timestamp))\n",
        "\n",
        "    if 'data' in event:\n",
        "        name = base64.b64decode(event['data']).decode('utf-8')\n",
        "    else:\n",
        "        name = 'World'\n",
        "        \n",
        "    print('Hello {}!'.format(name))\n",
        "    \n",
        "    export = export_crawl(\"5d090005451c952d4952a59d\", [\"url\", \"rel_canonical\"])\n",
        "\t\n",
        "    #print(export.json()[\"urls\"])\n",
        "    text = export.json()[\"urls\"]\n",
        "    \n",
        "    upload_to_bucket(\"ranksense_duplicate_clusters\", \n",
        "                     \"canonical_clusters.txt\", text)\n",
        "    \n",
        "    \n",
        "    "
      ],
      "execution_count": null,
      "outputs": []
    },
    {
      "cell_type": "markdown",
      "metadata": {
        "id": "8z7TbTN97BMY"
      },
      "source": [
        "Another utility function to create CSVs from dictionaries"
      ]
    },
    {
      "cell_type": "code",
      "metadata": {
        "id": "gO_wFr4L93GN"
      },
      "source": [
        "#https://stackoverflow.com/questions/3086973/how-do-i-convert-this-list-of-dictionaries-to-a-csv-file\n",
        "\n",
        "def dicts_to_csv(dicts, csv_filename)\n",
        "  import csv\n",
        "\n",
        "  keys = dicts[0].keys()\n",
        "  with open(csv_filename, 'wb') as output_file:\n",
        "      dict_writer = csv.DictWriter(output_file, keys)\n",
        "      dict_writer.writeheader()\n",
        "      dict_writer.writerows(dicts)\n",
        "      "
      ],
      "execution_count": null,
      "outputs": []
    },
    {
      "cell_type": "markdown",
      "metadata": {
        "id": "-JYxJUjE7Mto"
      },
      "source": [
        "In this function we hard code the OnCrawl access token. It is a better idea to set it up as an environment variable in the Google Cloud Functions Console"
      ]
    },
    {
      "cell_type": "code",
      "metadata": {
        "id": "Y2027NpkCf5_"
      },
      "source": [
        "def export_crawl(crawl_id, fields):\n",
        "    \n",
        "    import requests\n",
        "    \n",
        "    access_token = \"TYPE YOUR ONCRAWL ACCESS TOKEN\" \n",
        "    \n",
        "    response = requests.post(\"https://app.oncrawl.com/api/v2/data/crawl/{crawl_id}/pages?export\".format(crawl_id=crawl_id),\n",
        "                             headers={ 'Authorization': 'Bearer {ACCESS_TOKEN}'.format(ACCESS_TOKEN=access_token) },\n",
        "                             json={\n",
        "                                 \"fields\": fields\n",
        "                             }\n",
        "                            )\n",
        "\n",
        "    return response\n",
        "\n",
        "\n",
        "def upload_to_bucket(bucket_name, filename, dicts):\n",
        "    \n",
        "    from google.cloud import storage\n",
        "    \n",
        "    #save dictionaries locally\n",
        "    #https://stackoverflow.com/questions/42719793/write-temporary-files-from-google-cloud-function\n",
        "    dicts_to_csv(dicts, \"/tmp/\"+filename)\n",
        "    \n",
        "    client = storage.Client()\n",
        "    bucket = client.get_bucket(bucket_name) \n",
        "\n",
        "    blob = bucket.blob(filename)\n",
        "    #blob.upload_from_string(text)\n",
        "    \n",
        "    blob.upload_from_filename(filename=\"/tmp/\"+filename)\n",
        "    \n",
        "    print(\"file uploaded to bucket\")\n",
        "    \n",
        "    \n",
        "\n",
        "def oncrawl_data(event, context):\n",
        "    \"\"\"Background Cloud Function to be triggered by Pub/Sub.\n",
        "    Args:\n",
        "         event (dict):  The dictionary with data specific to this type of\n",
        "         event. The `data` field contains the PubsubMessage message. The\n",
        "         `attributes` field will contain custom attributes if there are any.\n",
        "         context (google.cloud.functions.Context): The Cloud Functions event\n",
        "         metadata. The `event_id` field contains the Pub/Sub message ID. The\n",
        "         `timestamp` field contains the publish time.\n",
        "    \"\"\"\n",
        "    import base64\n",
        "\n",
        "    print(\"\"\"This Function was triggered by messageId {} published at {}\n",
        "    \"\"\".format(context.event_id, context.timestamp))\n",
        "\n",
        "    if 'data' in event:\n",
        "        name = base64.b64decode(event['data']).decode('utf-8')\n",
        "    else:\n",
        "        name = 'World'\n",
        "        \n",
        "    print('Hello {}!'.format(name))\n",
        "    \n",
        "    export = export_crawl(\"5d090005451c952d4952a59d\", [\"url\", \"rel_canonical\"])\n",
        "\t\n",
        "    #print(export.json()[\"urls\"])\n",
        "    dicts = export.json()[\"urls\"]\n",
        "    \n",
        "    upload_to_bucket(\"ranksense_duplicate_clusters\", \n",
        "                     \"canonical_clusters.txt\", dicts)\n",
        "    \n",
        "    \n",
        "    \n",
        "    "
      ],
      "execution_count": null,
      "outputs": []
    },
    {
      "cell_type": "code",
      "metadata": {
        "id": "zDidJ-DwGJON"
      },
      "source": [
        "#https://stackoverflow.com/questions/3086973/how-do-i-convert-this-list-of-dictionaries-to-a-csv-file\n",
        "def dicts_to_csv(dicts, csv_filename):\n",
        "    import csv\n",
        "\n",
        "    keys = dicts[0].keys()\n",
        "    \n",
        "    #https://stackoverflow.com/questions/33054527/typeerror-a-bytes-like-object-is-required-not-str-when-writing-to-a-file-in\n",
        "    with open(csv_filename, 'w') as output_file:\n",
        "        dict_writer = csv.DictWriter(output_file, keys)\n",
        "        dict_writer.writeheader()\n",
        "        dict_writer.writerows(dicts)"
      ],
      "execution_count": null,
      "outputs": []
    },
    {
      "cell_type": "code",
      "metadata": {
        "id": "pICX6sqXHFaF",
        "outputId": "d22b44e6-186f-4d78-efe4-4ae204f7e4c5",
        "colab": {
          "base_uri": "https://localhost:8080/",
          "height": 377
        }
      },
      "source": [
        "export.json()[\"urls\"]"
      ],
      "execution_count": null,
      "outputs": [
        {
          "output_type": "execute_result",
          "data": {
            "text/plain": [
              "[{'rel_canonical': 'https://www.davidyurman.com/products/kids/kids-jewelry/albion-kids-necklace-with-diamonds-4mm-kn1038-ss.pdp.html',\n",
              "  'url': 'https://www.davidyurman.com/products/kids/kids-jewelry/albion-kids-necklace-with-diamonds-4mm-kn1038-ss.pdp.html'},\n",
              " {'rel_canonical': 'https://www.davidyurman.com/products/kids/kids-jewelry/albion-kids-ring-with-diamonds-4mm-kr1038-ss.pdp.html',\n",
              "  'url': 'https://www.davidyurman.com/products/kids/kids-jewelry/albion-kids-ring-with-diamonds-4mm-kr1038-ss.pdp.html'},\n",
              " {'rel_canonical': 'https://www.davidyurman.com/products/kids/kids-jewelry/cable-collectibles-kids-cross-necklace-with-diamonds-kn1044-ss.pdp.html',\n",
              "  'url': 'https://www.davidyurman.com/products/kids/kids-jewelry/cable-collectibles-kids-cross-necklace-with-diamonds-kn1044-ss.pdp.html'},\n",
              " {'rel_canonical': 'https://www.davidyurman.com/products/kids/kids-jewelry/cable-collectibles-kids-dog-charm-necklace-in-18k-gold-with-diam.pdp.html',\n",
              "  'url': 'https://www.davidyurman.com/products/kids/kids-jewelry/cable-collectibles-kids-dog-charm-necklace-in-18k-gold-with-diam.pdp.html'},\n",
              " {'rel_canonical': 'https://www.davidyurman.com/products/kids/kids-jewelry/cable-collectibles-kids-heart-charm-necklace-in-18k-gold-kn1031-.pdp.html',\n",
              "  'url': 'https://www.davidyurman.com/products/kids/kids-jewelry/cable-collectibles-kids-heart-charm-necklace-in-18k-gold-kn1031-.pdp.html'},\n",
              " {'rel_canonical': 'https://www.davidyurman.com/products/kids/kids-jewelry/cable-collectibles-kids-necklace-birthstone-necklace-in-18k-gold.pdp.html',\n",
              "  'url': 'https://www.davidyurman.com/products/kids/kids-jewelry/cable-collectibles-kids-necklace-birthstone-necklace-in-18k-gold.pdp.html'},\n",
              " {'rel_canonical': 'https://www.davidyurman.com/products/kids/kids-jewelry/cable-collectibles-kids-quad-charm-necklace-in-18k-gold-kn1033-8.pdp.html',\n",
              "  'url': 'https://www.davidyurman.com/products/kids/kids-jewelry/cable-collectibles-kids-quad-charm-necklace-in-18k-gold-kn1033-8.pdp.html'},\n",
              " {'rel_canonical': 'https://www.davidyurman.com/products/kids/kids-jewelry/cable-collectibles-kids-star-charm-necklace-in-18k-gold-kn1030-8.pdp.html',\n",
              "  'url': 'https://www.davidyurman.com/products/kids/kids-jewelry/cable-collectibles-kids-star-charm-necklace-in-18k-gold-kn1030-8.pdp.html'},\n",
              " {'rel_canonical': 'https://www.davidyurman.com/products/kids/kids-jewelry/cable-collectibles-kids-star-of-david-necklace-with-diamonds-kn1.pdp.html',\n",
              "  'url': 'https://www.davidyurman.com/products/kids/kids-jewelry/cable-collectibles-kids-star-of-david-necklace-with-diamonds-kn1.pdp.html'},\n",
              " {'rel_canonical': 'https://www.davidyurman.com/products/kids/kids-jewelry/cable-collectibles-kids-teardrop-charm-necklace-in-18k-gold-kn10.pdp.html',\n",
              "  'url': 'https://www.davidyurman.com/products/kids/kids-jewelry/cable-collectibles-kids-teardrop-charm-necklace-in-18k-gold-kn10.pdp.html'}]"
            ]
          },
          "metadata": {
            "tags": []
          },
          "execution_count": 37
        }
      ]
    },
    {
      "cell_type": "code",
      "metadata": {
        "id": "nel6ic2xCg-E"
      },
      "source": [
        "dicts_to_csv(export.json()[\"urls\"], \"test.csv\")"
      ],
      "execution_count": null,
      "outputs": []
    },
    {
      "cell_type": "code",
      "metadata": {
        "id": "MkXI_CKtF_qo"
      },
      "source": [
        "key=\"INPUT SEMrush API key here\""
      ],
      "execution_count": null,
      "outputs": []
    },
    {
      "cell_type": "markdown",
      "metadata": {
        "id": "e8pFIboRKhYh"
      },
      "source": [
        "#SEMRush Google Cloud function"
      ]
    },
    {
      "cell_type": "markdown",
      "metadata": {
        "id": "D7fpuv167kzy"
      },
      "source": [
        "Same here. Set up the SEMrush API key as an environment variable so there is no need to hard code it."
      ]
    },
    {
      "cell_type": "code",
      "metadata": {
        "id": "xbNnyDONKj8e"
      },
      "source": [
        "\n",
        "\n",
        "from urllib.parse import urlencode, urlparse, urlunparse, quote\n",
        "import pandas as pd\n",
        "import requests\n",
        "\n",
        "def get_seo_color_data(color, domain, database=\"us\", export_columns=\"Ph,Po,Nq,Ur,Tg,Td,Ts\", \n",
        "                       display_limit=10000, display_filter=\"+|Ph|Co|{color}\"):\n",
        "  \n",
        "  global key\n",
        "  \n",
        "  url_params={\"type\": \"domain_organic\",\n",
        "             \"key\": key,\n",
        "              \"display_filter\": display_filter.format(color=color),\n",
        "             \"display_limit\": display_limit,\n",
        "             \"export_columns\": export_columns,\n",
        "             \"domain\": domain,\n",
        "             \"database\": database\n",
        "             }\n",
        "\n",
        "  api_url=\"https://api.semrush.com/\"\n",
        "\n",
        "  qs = urlencode(url_params)\n",
        "\n",
        "  u = urlparse(api_url)\n",
        "\n",
        "  api_request = urlunparse((u.scheme, u.netloc, u.path, u.params, qs, u.fragment))\n",
        "  \n",
        "  #print(api_request)\n",
        "  \n",
        "  r = requests.get(api_request)\n",
        "  \n",
        "  if r.status_code == 200:\n",
        "    results = r.text.split(\"\\r\\n\") #\n",
        "    headers = results[0].split(\";\") # save result headers to list\n",
        "    table = [x.split(\";\") for x in results[1:]] #save columns to list of lists\n",
        "    \n",
        "    df = pd.DataFrame(table, columns=headers).dropna() #remove null types\n",
        "    \n",
        "    #https://stackoverflow.com/questions/29815129/pandas-dataframe-to-list-of-dictionaries\n",
        "\n",
        "    return df.to_dict(\"records\")\n",
        "  \n",
        "  else:\n",
        "    print(\"API call failed with code {code}\".format(r.status_code))\n",
        "    \n",
        "    return None\n",
        "\n",
        "def upload_to_bucket(bucket_name, filename, dicts):\n",
        "    \n",
        "    from google.cloud import storage\n",
        "    \n",
        "    #save dictionaries locally\n",
        "    #https://stackoverflow.com/questions/42719793/write-temporary-files-from-google-cloud-function\n",
        "    dicts_to_csv(dicts, \"/tmp/\"+filename)\n",
        "    \n",
        "    client = storage.Client()\n",
        "    bucket = client.get_bucket(bucket_name) \n",
        "\n",
        "    blob = bucket.blob(filename)\n",
        "    #blob.upload_from_string(text)\n",
        "    \n",
        "    blob.upload_from_filename(filename=\"/tmp/\"+filename)\n",
        "    \n",
        "    print(\"file uploaded to bucket\")\n",
        "    \n",
        "    \n",
        "\n",
        "def semrush_data(event, context):\n",
        "    \"\"\"Background Cloud Function to be triggered by Pub/Sub.\n",
        "    Args:\n",
        "         event (dict):  The dictionary with data specific to this type of\n",
        "         event. The `data` field contains the PubsubMessage message. The\n",
        "         `attributes` field will contain custom attributes if there are any.\n",
        "         context (google.cloud.functions.Context): The Cloud Functions event\n",
        "         metadata. The `event_id` field contains the Pub/Sub message ID. The\n",
        "         `timestamp` field contains the publish time.\n",
        "    \"\"\"\n",
        "    import base64\n",
        "\n",
        "    print(\"\"\"This Function was triggered by messageId {} published at {}\n",
        "    \"\"\".format(context.event_id, context.timestamp))\n",
        "\n",
        "    if 'data' in event:\n",
        "        name = base64.b64decode(event['data']).decode('utf-8')\n",
        "    else:\n",
        "        name = 'World'\n",
        "        \n",
        "    print('Hello {}!'.format(name))\n",
        "    \n",
        "    database=\"us\"\n",
        "    domain=\"davidyurman.com\"\n",
        "    color=\"white\"\n",
        "\n",
        "    dicts = get_seo_color_data(color, domain, export_columns=\"Ph,Po,Tg\") # only keyword, position and traffic\n",
        "    \n",
        "    upload_to_bucket(\"ranksense_duplicate_clusters\", \n",
        "                     database+\"_\"+domain+\"_\"+ color + \".csv\", dicts)\n",
        "    \n",
        "    \n",
        "    \n",
        "    "
      ],
      "execution_count": null,
      "outputs": []
    },
    {
      "cell_type": "code",
      "metadata": {
        "id": "jKmWEyohNnOp"
      },
      "source": [
        "database=\"us\"\n",
        "domain=\"davidyurman.com\"\n",
        "color=\"white\"\n",
        "\n",
        "dicts = get_seo_color_data(color, domain, export_columns=\"Ph,Po,Tg\") # only keyword, position and traffic\n"
      ],
      "execution_count": null,
      "outputs": []
    },
    {
      "cell_type": "code",
      "metadata": {
        "id": "Au3k6IoDPN4T"
      },
      "source": [
        "#dicts"
      ],
      "execution_count": null,
      "outputs": []
    },
    {
      "cell_type": "markdown",
      "metadata": {
        "id": "s4rQA_qybmAF"
      },
      "source": [
        "#Clustering Cloud function"
      ]
    },
    {
      "cell_type": "code",
      "metadata": {
        "id": "E25nJvO3PPnX"
      },
      "source": [
        "def download_from_bucket(bucket_name, filename):\n",
        "    \n",
        "    from google.cloud import storage\n",
        "    \n",
        "    client = storage.Client(project=\"intent-prediction-bert\")\n",
        "    bucket = client.get_bucket(bucket_name) \n",
        "\n",
        "    blob = bucket.get_blob(filename)\n",
        "\n",
        "    blob.download_to_filename(filename=filename)\n",
        "\n",
        "    print(\"file\" + filename + \" downloaded from bucket\")"
      ],
      "execution_count": null,
      "outputs": []
    },
    {
      "cell_type": "code",
      "metadata": {
        "id": "MFFipJ0Tet9N",
        "outputId": "5e5fc7b7-c319-4633-9370-5943465df4bd",
        "colab": {
          "base_uri": "https://localhost:8080/",
          "height": 34
        }
      },
      "source": [
        "download_from_bucket(\"ranksense_duplicate_clusters\", \"canonical_clusters.txt\")"
      ],
      "execution_count": null,
      "outputs": [
        {
          "output_type": "stream",
          "text": [
            "filecanonical_clusters.txt downloaded from bucket\n"
          ],
          "name": "stdout"
        }
      ]
    },
    {
      "cell_type": "code",
      "metadata": {
        "id": "GmrLvbk_e50L",
        "outputId": "10c74851-f6ea-4982-b0a1-d4a136df997e",
        "colab": {
          "base_uri": "https://localhost:8080/",
          "height": 224
        }
      },
      "source": [
        "!cat canonical_clusters.txt"
      ],
      "execution_count": null,
      "outputs": [
        {
          "output_type": "stream",
          "text": [
            "rel_canonical,url\r\n",
            "https://www.davidyurman.com/products/kids/kids-jewelry/albion-kids-necklace-with-diamonds-4mm-kn1038-ss.pdp.html,https://www.davidyurman.com/products/kids/kids-jewelry/albion-kids-necklace-with-diamonds-4mm-kn1038-ss.pdp.html\r\n",
            "https://www.davidyurman.com/products/kids/kids-jewelry/albion-kids-ring-with-diamonds-4mm-kr1038-ss.pdp.html,https://www.davidyurman.com/products/kids/kids-jewelry/albion-kids-ring-with-diamonds-4mm-kr1038-ss.pdp.html\r\n",
            "https://www.davidyurman.com/products/kids/kids-jewelry/cable-collectibles-kids-cross-necklace-with-diamonds-kn1044-ss.pdp.html,https://www.davidyurman.com/products/kids/kids-jewelry/cable-collectibles-kids-cross-necklace-with-diamonds-kn1044-ss.pdp.html\r\n",
            "https://www.davidyurman.com/products/kids/kids-jewelry/cable-collectibles-kids-dog-charm-necklace-in-18k-gold-with-diam.pdp.html,https://www.davidyurman.com/products/kids/kids-jewelry/cable-collectibles-kids-dog-charm-necklace-in-18k-gold-with-diam.pdp.html\r\n",
            "https://www.davidyurman.com/products/kids/kids-jewelry/cable-collectibles-kids-heart-charm-necklace-in-18k-gold-kn1031-.pdp.html,https://www.davidyurman.com/products/kids/kids-jewelry/cable-collectibles-kids-heart-charm-necklace-in-18k-gold-kn1031-.pdp.html\r\n",
            "https://www.davidyurman.com/products/kids/kids-jewelry/cable-collectibles-kids-necklace-birthstone-necklace-in-18k-gold.pdp.html,https://www.davidyurman.com/products/kids/kids-jewelry/cable-collectibles-kids-necklace-birthstone-necklace-in-18k-gold.pdp.html\r\n",
            "https://www.davidyurman.com/products/kids/kids-jewelry/cable-collectibles-kids-quad-charm-necklace-in-18k-gold-kn1033-8.pdp.html,https://www.davidyurman.com/products/kids/kids-jewelry/cable-collectibles-kids-quad-charm-necklace-in-18k-gold-kn1033-8.pdp.html\r\n",
            "https://www.davidyurman.com/products/kids/kids-jewelry/cable-collectibles-kids-star-charm-necklace-in-18k-gold-kn1030-8.pdp.html,https://www.davidyurman.com/products/kids/kids-jewelry/cable-collectibles-kids-star-charm-necklace-in-18k-gold-kn1030-8.pdp.html\r\n",
            "https://www.davidyurman.com/products/kids/kids-jewelry/cable-collectibles-kids-star-of-david-necklace-with-diamonds-kn1.pdp.html,https://www.davidyurman.com/products/kids/kids-jewelry/cable-collectibles-kids-star-of-david-necklace-with-diamonds-kn1.pdp.html\r\n",
            "https://www.davidyurman.com/products/kids/kids-jewelry/cable-collectibles-kids-teardrop-charm-necklace-in-18k-gold-kn10.pdp.html,https://www.davidyurman.com/products/kids/kids-jewelry/cable-collectibles-kids-teardrop-charm-necklace-in-18k-gold-kn10.pdp.html\r\n"
          ],
          "name": "stdout"
        }
      ]
    },
    {
      "cell_type": "code",
      "metadata": {
        "id": "iBiNs6mbFjSS"
      },
      "source": [
        ""
      ],
      "execution_count": null,
      "outputs": []
    },
    {
      "cell_type": "markdown",
      "metadata": {
        "id": "-q3u0x4IIPDD"
      },
      "source": [
        "We need to process the existing cluster we downloaded"
      ]
    },
    {
      "cell_type": "code",
      "metadata": {
        "id": "SFq-LbpLKLsy"
      },
      "source": [
        "#load to dataframe\n",
        "\n",
        "import pandas as pd\n",
        "\n",
        "df = pd.read_csv(\"canonical_clusters.txt\")\n",
        "\n",
        "test_urls=list(df[\"url\"])[:5]\n",
        "print(test_urls)"
      ],
      "execution_count": null,
      "outputs": []
    },
    {
      "cell_type": "markdown",
      "metadata": {
        "id": "aJccdsysKZHe"
      },
      "source": [
        "Extract product ids to use for clustering"
      ]
    },
    {
      "cell_type": "code",
      "metadata": {
        "id": "Ws5Rk717FwLe"
      },
      "source": [
        "from urllib.parse import urlparse\n",
        "\n",
        "import re\n",
        "\n",
        "#THIS IS SITE SPECIFIC AND WON'T GENERALIZE TO OTHER SITES\n",
        "def get_product_id(url):\n",
        "  path = urlparse(url).path.replace(\".pdp.html\", \"\")\n",
        "    \n",
        "  words = path.split(\"-\")\n",
        "\n",
        "  for word in words:\n",
        "    # match words that start with letters and are followed by numbers\n",
        "    if re.match(r\"^\\D+\\d+.*\", word):\n",
        "      return word\n",
        "    \n",
        "  return None\n",
        "\n",
        "\n",
        "\n",
        "  "
      ],
      "execution_count": null,
      "outputs": []
    },
    {
      "cell_type": "markdown",
      "metadata": {
        "id": "Zd1UoP9HJNJs"
      },
      "source": [
        "Next, this is how we can add the product ID column to our Dataframe and group the URLs to perform the clustering."
      ]
    },
    {
      "cell_type": "code",
      "metadata": {
        "id": "t3Cb3aSfJNp6"
      },
      "source": [
        "for url in test_urls:\n",
        "  print(url)\n",
        "  print(get_product_id(url))  \n",
        "\n",
        "\n",
        "df[\"product_id\"]=df[\"url\"].apply(lambda x: get_product_id(x))\n",
        "\n",
        "df.groupby(\"product_id\").count()[[\"url\", \"rel_canonical\"]]\n"
      ],
      "execution_count": null,
      "outputs": []
    },
    {
      "cell_type": "markdown",
      "metadata": {
        "id": "zt4fZkDKIYOY"
      },
      "source": [
        "We are going to fix that by adding self-referential canonicals to those URLs."
      ]
    },
    {
      "cell_type": "code",
      "metadata": {
        "id": "doM69wKmIZO9"
      },
      "source": [
        "#\n",
        "  df[df[\"rel_canonical\"].isnull()]\n",
        "\n",
        "  #output ->list of URls with no canonicals\n",
        "\n",
        "  new_df = df.copy()\n",
        "\n",
        "  #fix missing canonicals by setting them to self referential urls\n",
        "  new_df[\"rel_canonical\"] = new_df[\"rel_canonical\"].fillna(new_df[\"url\"])\n",
        "\n",
        "  #this list should be empty\n",
        "  new_df[new_df[\"rel_canonical\"].isnull()]\n",
        "\n",
        "  #export to CSV \n",
        "\n",
        "  new_df.to_csv(\"urls.csv\")\n",
        "\n",
        "  #download backup CSV from Google Colab to your local machine\n",
        "\n",
        "  from google.colab import files\n",
        "\n",
        "  files.download(\"urls.csv\")\n",
        "\n"
      ],
      "execution_count": null,
      "outputs": []
    },
    {
      "cell_type": "markdown",
      "metadata": {
        "id": "nfzmscRhIL5H"
      },
      "source": [
        "###Turning Canonical Clusters to Canonicalized\n",
        "\n",
        "\n"
      ]
    },
    {
      "cell_type": "markdown",
      "metadata": {
        "id": "15jGcoGoFmRQ"
      },
      "source": [
        "We are going to perform an intermediate step and force all product groups to canonicalize to the first URL in the group.\n",
        "\n",
        "This is good enough to illustrate the concept, but for production use, we would want to canonicalize to the most popular URL in the group. It could be the most linked page or the one with the most search clicks or impressions."
      ]
    },
    {
      "cell_type": "code",
      "metadata": {
        "id": "-1lHE4jpLdeP"
      },
      "source": [
        "first_canonical = dict()\n",
        "\n",
        "def get_first_canonical(row):\n",
        "  #print(row)\n",
        "  product_id = row[\"product_id\"]\n",
        "  url = row[\"url\"]\n",
        "  \n",
        "  canonical = first_canonical.get(product_id)\n",
        "  \n",
        "  if canonical == None:\n",
        "    first_canonical[product_id] = url\n",
        "    return url\n",
        "  \n",
        "  return canonical\n",
        "  \n",
        "#https://stackoverflow.com/questions/33518124/how-to-apply-a-function-on-every-row-on-a-dataframe\n",
        "new_df.apply(get_first_canonical, axis=1)\n",
        "\n",
        "next_df = new_df.copy()\n",
        "next_df[\"rel_canonical\"] = next_df.apply(get_first_canonical, axis=1)\n",
        "\n",
        "next_df.to_csv(\"urls2.csv\")\n",
        "\n",
        "files.download(\"urls3.csv\")\n"
      ],
      "execution_count": null,
      "outputs": []
    },
    {
      "cell_type": "markdown",
      "metadata": {
        "id": "CMcxoUXlL75P"
      },
      "source": [
        "###Turning Some Canonical Clusters to Self-Referential\n"
      ]
    },
    {
      "cell_type": "markdown",
      "metadata": {
        "id": "VrN2eUgCMPOJ"
      },
      "source": [
        "Now, in this final step, we will learn how many clusters should be self-referential.\n",
        "\n",
        "As all groups canonicalize to one URL now, we only need to break those cluster where URLs have search traffic for color terms. We will change the canonicals to be self-referential."
      ]
    },
    {
      "cell_type": "code",
      "metadata": {
        "id": "8Nk1lz7UMIBH"
      },
      "source": [
        "from glob import glob\n",
        "\n",
        "color_files = glob(\"davidyurman.com*\")\n",
        "\n",
        "#https://stackoverflow.com/questions/20906474/import-multiple-csv-files-into-pandas-and-concatenate-into-one-dataframe\n",
        "\n",
        "#import all color CSVs into a single pandas dataframe\n",
        "li = []\n",
        "\n",
        "for filename in color_files:\n",
        "    df = pd.read_csv(filename, index_col=None, header=0)\n",
        "    li.append(df)\n",
        "\n",
        "color_df = pd.concat(li, axis=0, ignore_index=True)\n",
        "\n",
        "#create a set of unique urls \n",
        "color_urls = set(color_df[\"URL\"])\n",
        "\n",
        "#override canonical if URL in color URL list (making it self referential)\n",
        "last_df[\"rel_canonical\"] = last_df.apply(lambda x: x[\"url\"] if x[\"url\"] in color_urls else x[\"rel_canonical\"], axis=1 )\n",
        "\n",
        "#export updated cluster urls\n",
        "last_df.to_csv(\"urls3.csv\")\n",
        "files.download(\"urls3.csv\")"
      ],
      "execution_count": null,
      "outputs": []
    },
    {
      "cell_type": "markdown",
      "metadata": {
        "id": "fF8jpyxDMYd4"
      },
      "source": [
        "#Exporting changes to Google Sheets\n"
      ]
    },
    {
      "cell_type": "code",
      "metadata": {
        "id": "qDre-JvJPWW5"
      },
      "source": [
        "!pip install --upgrade -q gspread\n"
      ],
      "execution_count": null,
      "outputs": []
    },
    {
      "cell_type": "code",
      "metadata": {
        "id": "Zoh2qh-mPPQa"
      },
      "source": [
        "# Authenticate (copy & paste key as detailed), and read spreadsheet\n",
        "# (This is always confusing, but it works)\n",
        "from google.colab import auth\n",
        "auth.authenticate_user()\n",
        "import gspread\n",
        "from oauth2client.client import GoogleCredentials\n",
        "gc = gspread.authorize(GoogleCredentials.get_application_default())\n",
        "\n",
        "# get all data from the spreadsheet\n",
        "worksheet = gc.open(spreadsheetName).sheet1\n",
        "worksheetRows = worksheet.get_all_values() \n",
        "\n",
        "# Convert to a DataFrame and render. \n",
        "# (A DataFrame is overkill, but I wanted to play with them more :))\n",
        "import pandas as pd\n",
        "df = pd.DataFrame.from_records(worksheetRows)\n",
        "df.rename(columns=df.iloc[0], inplace = True) # use 1st row as column names\n",
        "df.drop([0], inplace = True) # drop the header row afterwards\n",
        "df.iloc[:5] # show the first 5 rows to prove it's working"
      ],
      "execution_count": null,
      "outputs": []
    },
    {
      "cell_type": "code",
      "metadata": {
        "id": "3UvdhqZXPQvD"
      },
      "source": [
        "# helper function to update all rows in the spreadsheet with a function\n",
        "\n",
        "def update_spreadsheet_rows(fieldName, parameterName, functionToCall, forceUpdate=False):\n",
        "  # Go through spreadsheet, update column 'fieldName' with the data calculated \n",
        "  # by 'functionToCall(parameterName)'. Show a progressbar while doing so.\n",
        "  # Only calculate / update rows without values there, unless forceUpdate=True.\n",
        "  \n",
        "  columnNr = df.columns.get_loc(fieldName) + 1 # column number of output field\n",
        "  \n",
        "  # progressbar maximum value = row count\n",
        "  pbar = tqdm(total=df.shape[0]) \n",
        "\n",
        "  # go through each row\n",
        "  for index, row in df.iterrows():\n",
        "    # if we already did it, don't recalculate unless 'forceUpdate' is set.\n",
        "    if forceUpdate or not row[fieldName]: \n",
        "      result = functionToCall(row[parameterName])\n",
        "      row[fieldName] = result # save locally\n",
        "      worksheet.update_cell(index+1, columnNr, result) # update sheet too\n",
        "    pbar.update(1) # we did it!\n",
        "  print(\"Done.\") \n",
        "  # we did all of it! "
      ],
      "execution_count": null,
      "outputs": []
    },
    {
      "cell_type": "code",
      "metadata": {
        "id": "VVPJwfugPm0r"
      },
      "source": [
        "#TODO rewrite above code"
      ],
      "execution_count": null,
      "outputs": []
    },
    {
      "cell_type": "code",
      "metadata": {
        "id": "Mqmjx4dSPyRg"
      },
      "source": [
        ""
      ],
      "execution_count": null,
      "outputs": []
    },
    {
      "cell_type": "markdown",
      "metadata": {
        "id": "MvpjCOBcP0o-"
      },
      "source": [
        "# Publish Sheet to RankSense\n",
        "\n",
        "You can find more details here https://help.ranksense.com/en/articles/4101798-how-to-publish-rules-using-our-api"
      ]
    },
    {
      "cell_type": "code",
      "metadata": {
        "id": "3SFXLksYP7gM"
      },
      "source": [
        "#pip install requests\n",
        "import requests\n",
        "\n",
        "token = \"\"\n",
        "requests.post(url='https://cf-app.ranksense.com/agile-seo/rules-api/import', data={\n",
        "    \"token\": token,\n",
        "    \"sheet_link\": \"https://docs.google.com/spreadsheets/d/link\",\n",
        "    \"website_id\": 0,\n",
        "    \"tags\": [0, 1, 2]\n",
        "})"
      ],
      "execution_count": null,
      "outputs": []
    },
    {
      "cell_type": "markdown",
      "metadata": {
        "id": "A42xJ3QGQ4A7"
      },
      "source": [
        ""
      ]
    },
    {
      "cell_type": "code",
      "metadata": {
        "id": "pNqtW0TGg1T6"
      },
      "source": [
        "#https://cloud.google.com/functions/docs/calling/storage\n",
        "#https://cloud.google.com/functions/docs/tutorials/storage\n",
        "\n",
        "def bucket_data(data, context):\n",
        "    \"\"\"Background Cloud Function to be triggered by Cloud Storage.\n",
        "       This generic function logs relevant data when a file is changed.\n",
        "\n",
        "    Args:\n",
        "        data (dict): The Cloud Functions event payload.\n",
        "        context (google.cloud.functions.Context): Metadata of triggering event.\n",
        "    Returns:\n",
        "        None; the output is written to Stackdriver Logging\n",
        "    \"\"\"\n",
        "\n",
        "    print('Event ID: {}'.format(context.event_id))\n",
        "    print('Event type: {}'.format(context.event_type))\n",
        "    print('Bucket: {}'.format(data['bucket']))\n",
        "    print('File: {}'.format(data['name']))\n",
        "    print('Metageneration: {}'.format(data['metageneration']))\n",
        "    print('Created: {}'.format(data['timeCreated']))\n",
        "    print('Updated: {}'.format(data['updated']))\n",
        "\n",
        "    download_from_bucket(data['bucket'], data['name'])\n",
        "\n"
      ],
      "execution_count": null,
      "outputs": []
    },
    {
      "cell_type": "code",
      "metadata": {
        "id": "aTl0gMJPKEiT"
      },
      "source": [
        ""
      ],
      "execution_count": null,
      "outputs": []
    }
  ]
}